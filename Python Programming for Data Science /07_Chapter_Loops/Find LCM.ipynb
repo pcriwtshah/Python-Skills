{
 "cells": [
  {
   "cell_type": "markdown",
   "id": "eff28afb",
   "metadata": {},
   "source": [
    "## Find the LCM \n",
    "**In this exercise, I will find the LCM of two numbers.**"
   ]
  },
  {
   "cell_type": "code",
   "execution_count": 1,
   "id": "ae6ddc9e",
   "metadata": {},
   "outputs": [
    {
     "name": "stdout",
     "output_type": "stream",
     "text": [
      "Enter the first number:4\n",
      "Enter the second number:8\n",
      "8\n"
     ]
    }
   ],
   "source": [
    "x = int(input('Enter the first number:'))\n",
    "y = int(input('Enter the second number:'))\n",
    "\n",
    "if x < y:\n",
    "    i = x\n",
    "else:\n",
    "    i =y\n",
    "\n",
    "        \n",
    "while i <= x*y:\n",
    "    i += 1\n",
    "    if (i%x ==0) & (i%y == 0):\n",
    "        print(i)\n",
    "        break"
   ]
  },
  {
   "cell_type": "markdown",
   "id": "ad942868",
   "metadata": {},
   "source": [
    "To find the LCM of two negative negative numbers.\n",
    "\n",
    "Note: LCM is a least positive number that is divisible by both numbers"
   ]
  },
  {
   "cell_type": "code",
   "execution_count": 2,
   "id": "6e4c7c29",
   "metadata": {},
   "outputs": [
    {
     "name": "stdout",
     "output_type": "stream",
     "text": [
      "Enter the first number:4\n",
      "Enter the second number:8\n",
      "8\n"
     ]
    }
   ],
   "source": [
    "x = int(input('Enter the first number:'))\n",
    "y = int(input('Enter the second number:'))\n",
    "\n",
    "if x < y:\n",
    "    i = x\n",
    "else:\n",
    "    i =y\n",
    "\n",
    "        \n",
    "while i <= abs(x*y):\n",
    "    if i !=0:\n",
    "        #i += 1\n",
    "        if (i%x ==0) & (i%y == 0):\n",
    "            print(i)\n",
    "            break\n",
    "    i += 1"
   ]
  },
  {
   "cell_type": "markdown",
   "id": "852de71c",
   "metadata": {},
   "source": [
    "**In this exercise, I will find the LCM of three numbers.**"
   ]
  },
  {
   "cell_type": "code",
   "execution_count": 3,
   "id": "b63f15e4",
   "metadata": {},
   "outputs": [
    {
     "name": "stdout",
     "output_type": "stream",
     "text": [
      "Enter the first number:12\n",
      "Enter the second number:8\n",
      "Enter the third number:4\n",
      "24\n"
     ]
    }
   ],
   "source": [
    "x = int(input('Enter the first number:'))\n",
    "y = int(input('Enter the second number:'))\n",
    "z = int(input('Enter the third number:'))\n",
    "if x < y:\n",
    "    if y < z:\n",
    "        i = x\n",
    "    elif x < z:\n",
    "        i = x\n",
    "    else:\n",
    "        i = z\n",
    "else:\n",
    "    if y < z:\n",
    "        i = y\n",
    "    else:\n",
    "        i = z\n",
    "        \n",
    "while i <= x*y*z:\n",
    "    i += 1\n",
    "    if (i%x ==0) & (i%y == 0) & (i%z ==0):\n",
    "        print(i)\n",
    "        break\n",
    "    "
   ]
  },
  {
   "cell_type": "markdown",
   "id": "cba8ab05",
   "metadata": {},
   "source": [
    "**In this exercise, I will find the LCM using list.**"
   ]
  },
  {
   "cell_type": "code",
   "execution_count": 4,
   "id": "0d8892ba",
   "metadata": {},
   "outputs": [
    {
     "name": "stdout",
     "output_type": "stream",
     "text": [
      "120\n"
     ]
    }
   ],
   "source": [
    "l = [3, 8, 5]\n",
    "l.sort()\n",
    "\n",
    "prod = 1\n",
    "for x in l:\n",
    "    prod = prod * x\n",
    "\n",
    "i  = l[0]\n",
    "while i <= prod:\n",
    "    i += 1\n",
    "    if (i%l[0] ==0) & (i%l[1] == 0) & (i%l[2] ==0):\n",
    "        print(i)\n",
    "        break"
   ]
  },
  {
   "cell_type": "code",
   "execution_count": 5,
   "id": "449d806f",
   "metadata": {},
   "outputs": [
    {
     "name": "stdout",
     "output_type": "stream",
     "text": [
      "Enter the first number:3\n",
      "Enter the second number:6\n",
      "Enter the third number:12\n",
      "12\n"
     ]
    }
   ],
   "source": [
    "x = int(input('Enter the first number:'))\n",
    "y = int(input('Enter the second number:'))\n",
    "z = int(input('Enter the third number:'))\n",
    "l = [x, y, z]\n",
    "l.sort()\n",
    "\n",
    "prod = 1\n",
    "for x in l:\n",
    "    prod = prod * x\n",
    "\n",
    "i  = l[0]\n",
    "while i <= prod:\n",
    "    i += 1\n",
    "    if (i%l[0] ==0) & (i%l[1] == 0) & (i%l[2] ==0):\n",
    "        print(i)\n",
    "        break"
   ]
  },
  {
   "cell_type": "markdown",
   "id": "9ea73183",
   "metadata": {},
   "source": [
    "## FInd the GCF\n",
    "**In this exercise, I will find the GCF**"
   ]
  },
  {
   "cell_type": "code",
   "execution_count": null,
   "id": "c0efeebf",
   "metadata": {},
   "outputs": [],
   "source": []
  },
  {
   "cell_type": "code",
   "execution_count": null,
   "id": "eb9dad28",
   "metadata": {},
   "outputs": [],
   "source": []
  }
 ],
 "metadata": {
  "kernelspec": {
   "display_name": "Python 3 (ipykernel)",
   "language": "python",
   "name": "python3"
  },
  "language_info": {
   "codemirror_mode": {
    "name": "ipython",
    "version": 3
   },
   "file_extension": ".py",
   "mimetype": "text/x-python",
   "name": "python",
   "nbconvert_exporter": "python",
   "pygments_lexer": "ipython3",
   "version": "3.7.2"
  }
 },
 "nbformat": 4,
 "nbformat_minor": 5
}
