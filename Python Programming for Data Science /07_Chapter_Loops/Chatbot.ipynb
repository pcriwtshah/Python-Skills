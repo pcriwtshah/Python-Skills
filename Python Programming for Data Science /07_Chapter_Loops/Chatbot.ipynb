{
 "cells": [
  {
   "cell_type": "code",
   "execution_count": null,
   "id": "b1e2f5dc",
   "metadata": {},
   "outputs": [],
   "source": [
    "keyword = ['fee','dispute','wrong','charge']\n",
    "x = input('How can I help you?\\n')\n",
    "l = x.split()\n",
    "\n",
    "for i in l:\n",
    "    for j in keyword:\n",
    "        if i  == j:\n",
    "            index = keyword.index(j)\n",
    "\n",
    "if index == 0:\n",
    "    print('Are you not happy with the fee?\\n')\n",
    "    a = int(input('Enter 1 for Yes and 2 for No'))\n",
    "    if a == 1:\n",
    "        x = int(input('What is the amount of the fee?'))\n",
    "        print(f'your fee of amount {x} is waived')\n",
    "    elif a == 2:\n",
    "        x = input('How can I help you?\\n')\n",
    "        \n",
    "elif index == 1:\n",
    "    print('So. you do not recognize this transaction\\n')\n",
    "    x = int(input('What is the amount of the transaction?'))\n",
    "    print(f'your transaction of amount {x} is waived')\n",
    "    \n",
    "elif index == 2:\n",
    "    pass\n",
    "elif index == 3:\n",
    "    pass"
   ]
  },
  {
   "cell_type": "code",
   "execution_count": 40,
   "id": "a6687dc9",
   "metadata": {},
   "outputs": [
    {
     "name": "stdout",
     "output_type": "stream",
     "text": [
      "What is your name?\n",
      "My name is Sushil\n",
      "M\n",
      "y\n",
      " \n",
      "n\n",
      "a\n",
      "m\n",
      "e\n",
      " \n",
      "i\n",
      "s\n",
      " \n",
      "S\n",
      "u\n",
      "s\n",
      "h\n",
      "i\n",
      "l\n"
     ]
    }
   ],
   "source": [
    "x = input('What is your name?\\n')\n",
    "for i in x:\n",
    "    print(i)"
   ]
  },
  {
   "cell_type": "code",
   "execution_count": null,
   "id": "df392852",
   "metadata": {},
   "outputs": [],
   "source": [
    "once "
   ]
  },
  {
   "cell_type": "code",
   "execution_count": null,
   "id": "643da77b",
   "metadata": {},
   "outputs": [],
   "source": []
  }
 ],
 "metadata": {
  "kernelspec": {
   "display_name": "Python 3 (ipykernel)",
   "language": "python",
   "name": "python3"
  },
  "language_info": {
   "codemirror_mode": {
    "name": "ipython",
    "version": 3
   },
   "file_extension": ".py",
   "mimetype": "text/x-python",
   "name": "python",
   "nbconvert_exporter": "python",
   "pygments_lexer": "ipython3",
   "version": "3.7.2"
  }
 },
 "nbformat": 4,
 "nbformat_minor": 5
}
