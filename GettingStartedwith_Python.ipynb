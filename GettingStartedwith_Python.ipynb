{
 "metadata": {
  "name": "GettingStartedwith_Python"
 },
 "nbformat": 3,
 "nbformat_minor": 0,
 "worksheets": [
  {
   "cells": [
    {
     "cell_type": "markdown",
     "metadata": {},
     "source": "<h1 align=\"center\"> Getting Started with Python in <p> IPython Notebook </h1><h4 align=\"center\">Jeff Knisley</h4>"
    },
    {
     "cell_type": "markdown",
     "metadata": {},
     "source": "(IF THIS TEXT IS TOO SMALL, FEEL FREE TO USE THE BROWSER ZOOM, PROBABLY CTRL+.  CTRL0 RETURNS TO NORMAL)\n\n<b>Python</b> is a high level programming language that is used for everything from robotics to web engines to ecommerce to games.  One of the keys to Python's success is that it is built on a simple, unifying philosphy -- namely, that \"everything is an object.\"   Objects in computer-related contexts is much like objects in all contexts -- they are things that have properties (name, shape, position, color, temperature) and that also have methods for modifying, utilizing, or communicating those properties ( e.g., methods for changing the object's color, or moving the object to a new position, or telling its name to another object, etcetera).   \n\nMore specifically, Python is based on a philosophy of usability, readability, and minimal impediments to the true goal of all programming -- i.e., solving problems via the implementation of algorithms.  Python itself can perhaps explain this much more eloquently.  \n\nIf you place your cursor after the word 'this' in the cell after <b>In [ ]:</b>,  \n\n<img src=\"http://math.etsu.edu/knisleyj/images/ImportThis.png\" alt = \"Place Cursor at the end of In [ ] :   import this\" style=\"display:block;margin-left:auto;margin-right:auto\"/>\n\nand then press the enter key while holding down the shift key<b> ( we call this <b> [shift]-[enter] </b> ), then Python itself (actually, Tim Peters) will tell you what it is all about.  \n\n\n\n\n"
    },
    {
     "cell_type": "code",
     "collapsed": false,
     "input": "import this",
     "language": "python",
     "metadata": {},
     "outputs": []
    },
    {
     "cell_type": "markdown",
     "metadata": {},
     "source": "Congratulations.  You just started using Python!  \n\nIn order to do something a bit more substantive, however, we will need to learn what Python commands like <b>import</b> actually do and why we might want to use them.  In particular, we begin with some of the \"objects\" that are fundamental to Python.  \n\nFirst up are the integers, which are the counting numbers like 0, 1, 2, 3, and -5.  If you place your cursor in the cell below and <b>[shift]-[enter]</b>, Python will add the integer 1 to itself.    "
    },
    {
     "cell_type": "code",
     "collapsed": false,
     "input": "1+1",
     "language": "python",
     "metadata": {},
     "outputs": []
    },
    {
     "cell_type": "markdown",
     "metadata": {},
     "source": "Python can perform all the arithmetic operations on integers.  Moreover, a statement like \n\n<b> x = 4 </b>\n\n<b><i>binds</i></b> the integer <b>1</b> to the name <b>a</b>, thus allowing us to use the name as a reference to the value it is bound to.  In addition, anything after a pound sign # is a comment and is not executed, and the result from the last line of the cell is what IPython reports as Output  ( <b>[shift]-[enter]</b> to see an example . ) "
    },
    {
     "cell_type": "code",
     "collapsed": false,
     "input": "x = 4 # x is bound to 4, and then x**2 is the square of x\n\nx**2",
     "language": "python",
     "metadata": {},
     "outputs": []
    },
    {
     "cell_type": "markdown",
     "metadata": {},
     "source": "Binding objects to a name has all sorts of advantages, wihtout sacrificing any of the properties of the object itself.  For example, if I want to increase <b>x</b> by 11, then I need only write \n\n<b>x += 11</b>\n\nThe command <b>+=</b> means \"increase the current value of <b>x</b> by some value\".  <b>[shift]-[enter]</b> in the cell below to see an example! "
    },
    {
     "cell_type": "code",
     "collapsed": false,
     "input": "x += 11\nx",
     "language": "python",
     "metadata": {},
     "outputs": []
    },
    {
     "cell_type": "markdown",
     "metadata": {},
     "source": "Another object that is fundamental in Python is that of a <b>list</b>, which is a collection of objects in which order matters (unlike sets in which the order of the elements is not important).  Below we bind the list [10,8,6,4] to the name <b>MyList</b> ( <b>[shift]-[enter]</b> to execute the example )."
    },
    {
     "cell_type": "code",
     "collapsed": false,
     "input": "MyList = [ 10,8,6,4 ]  # Binds the list to the name MyList\nMyList # Outputs the object bound to the name MyList",
     "language": "python",
     "metadata": {},
     "outputs": []
    },
    {
     "cell_type": "markdown",
     "metadata": {},
     "source": "Individual entries in <b>MyList</b> are accessed using an index inside square brackets.  \n\n<p align = \"center\"> <b style=\"font-size:larger;color:#880000\">It is important to note that indexing in Python begins with 0</b>.  </p>\n\nThus, <b>MyList[0]</b> returns the value 10, whereas <b>MyList[1]</b> returns 8. "
    },
    {
     "cell_type": "code",
     "collapsed": false,
     "input": "MyList[0]",
     "language": "python",
     "metadata": {},
     "outputs": []
    },
    {
     "cell_type": "markdown",
     "metadata": {},
     "source": "As mentioned at the outset, everything in Python is an <b style=\"font-size:larger\">object</b>, and objects have properties and processes (e.g., a car has a \"color\" property and is capable of the process of \"revving the engine,\" among other things.  In Python, a property or process of an object is referenced by putting a period between a name for the object and that property or process.  \n\nIPython makes it easy for you to see the properties or processes attached to an object.  A name for an object is called a <b style=\"font-size:larger\">namespace</b> for the properties and processes of that object. Enter a namespace (like <b>MyList</b> ) and a period.  Then press the <b>[tab]</b> key.  You will see a scrollable list of all the properties and methods attached to that namespace -- i.e., something like below:\n\n<img src=\"http://math.etsu.edu/knisleyj/images/namespacetab2.png\" alt = \"items attached to a namespace\" style=\"display:block;margin-left:auto;margin-right:auto\" />\n\nTry it out below!  "
    },
    {
     "cell_type": "code",
     "collapsed": false,
     "input": "MyList.",
     "language": "python",
     "metadata": {},
     "outputs": []
    },
    {
     "cell_type": "markdown",
     "metadata": {},
     "source": "What's more, once we choose a property or method, IPython will provide information on how to use that command in a <i>tooltip</i> if we place an open parenthesis after the command and press the <b>[Tab]</b> key (or the tooltip may show up automatically). More on this later (and on what the symbols <b>^</b> (open in separate pager), <b>+</b> (enlarge tooltip), and <b>x</b> (close tooltip) mean when this pops up.  \n\n<img src=\"http://math.etsu.edu/knisleyj/images/MyListToolTip.png\" alt = \"items attached to a namespace\" style=\"display:block;margin-left:auto;margin-right:auto\" />\n\nFor example, we can choose the <b>append</b> method attached to the <b>MyList</b> namespace, which the tooltip tells us will append the object inside the parenthesis at the end of the list (<b>[shift]-[enter]</b>) in the cell below). "
    },
    {
     "cell_type": "code",
     "collapsed": false,
     "input": "MyList.append(2)\nMyList",
     "language": "python",
     "metadata": {},
     "outputs": []
    },
    {
     "cell_type": "markdown",
     "metadata": {},
     "source": "Likewise, the command <b>reverse</b> is also a method of <b>list</b> objects, and it reverses the order of the list (the parentheses are required)."
    },
    {
     "cell_type": "code",
     "collapsed": false,
     "input": "MyList.reverse()\nMyList",
     "language": "python",
     "metadata": {},
     "outputs": []
    },
    {
     "cell_type": "markdown",
     "metadata": {},
     "source": "The <b>range</b> command is a command for generating a list.  In particular, <b>range(a,b)</b> generates a list of integers <b><i>beginning</i></b> at <b>a</b> and going <i>up to but not including </i> <b>b</b>.  For example, <b>range(1,7)</b> generates the list \n\n[1,2,3,4,5,6]\n\nThe <b>a</b> is optional, in that <b>range(b)</b> generates the list of integers from <b>0</b> up to but not including <b>b</b>.  For example, <b>range(5)</b> generates the list \n\n[0,1,2,3,4]\n\n(Note: in Python 3, you must write <b>list(range(5))</b> to generate the list above -- more on this later).  "
    },
    {
     "cell_type": "code",
     "collapsed": false,
     "input": "range(5)",
     "language": "python",
     "metadata": {},
     "outputs": []
    },
    {
     "cell_type": "markdown",
     "metadata": {},
     "source": "A <b>string</b> is a special type of list, one that is made solely of alphanumeric characters (and punctuation) and is enclosed by either single quotes ' ', double quotes \" ... \", or triple quotes, ''' ... '''  or \"\"\" ... \"\"\".  Triple quotes are used if carriage returns are to be included (indeed, triple quotes can contain an entire document, such as the US Constitution).  \n\nThe command <b>len</b> returns the length of an object, if its length is defined.  Thus, \n\n<b>len(MyList)</b>\n\nreturns 5  and <b>len(\"Hello World!\") </b> returns 12 (it is 12 characters long, since the space is a character).  "
    },
    {
     "cell_type": "code",
     "collapsed": false,
     "input": "len(\"Hello World!\")",
     "language": "python",
     "metadata": {},
     "outputs": []
    },
    {
     "cell_type": "markdown",
     "metadata": {},
     "source": "Characters in a string are accessed using an index inside square brackets, beginning at 0. Thus, if \n\n<b>MyString = 'Hello World' </b>\n\nthen <b>MyString[0]</b> returns the string \"H\", whereas <b>MyString[1]</b> returns the string \"e\".  Moreover, \n\n<b>MyString[a:b]</b> \n\nreturns the substring of <b>MyString</b> starting at index <b>a</b> and continuing as far as possible up to <i>but not including </i><b>b</b>.  For example, \n\n<b>MyString[0:5]</b> \n\nreturns the first five characters, \"Hello\".  Note: the <b>print</b> command prints a string representation of the result produced within the parentheses.  This allows us to show examples other than in the last line of the cell.  "
    },
    {
     "cell_type": "code",
     "collapsed": false,
     "input": "MyString = \"Hello World!\"\n\nprint(   MyString[1:3] )  # from second character up to (not including) the fourth\n\nprint(   MyString[4:7] )\n\nMyString[6:40]  # from character with index 6 (starting at 0) up to the end",
     "language": "python",
     "metadata": {},
     "outputs": []
    },
    {
     "cell_type": "markdown",
     "metadata": {},
     "source": "We could continue in this fashion indefinitely, but that would not be a good approach for many reasons, including that there are many different objects and commands, that some are more important than others, and that it distracts from the only reason that computers languages exist -- namely, because people want computers to do things that people find useful and exciting!  \n\nInstead, as the experiences of programmers and scientists the world over has shown repeatedly, one of the better ways to learn a new language is to (a) have a problem to solve and (b) hack a similar approach until it works for us (where \"hack\" means modifying until suitable for the task at hand).  Thus, we will motivate our initial foray into programming with Python via a problem to be solved.\n\nIn particular, the problem we will consider is motivated by the study of DNA, which in many contexts is modeled as alphabetic strings made up of the letters A, T, G, and C.  For example, \"AGTCGAATCGACATC\" is a short DNA segment.  Moreover, certain sub-patterns in DNA are especially important.  For example, genes tend to start near CG islands ( = regions where there are lots of CG pairs ), and genes often end with strings of repeated A\u2019s.  Often it is important to count the number of times such subpatterns appear in an overall pattern.  \n\n\n<p style=\"font-size:larger\"><b>The Problem:</b>   Given a (typically large) string of letters and a collection of patterns, count the number of times each pattern occurs in the string</p>\n\nLet's start by defining a <b>SearchString</b> and a list of <b>Patterns</b>.  "
    },
    {
     "cell_type": "code",
     "collapsed": false,
     "input": "SearchString = \"AGTCGAATCGACATC\"\nPatterns = [ \"CG\", \"AA\" ] \n",
     "language": "python",
     "metadata": {},
     "outputs": []
    },
    {
     "cell_type": "markdown",
     "metadata": {},
     "source": "Our final result will be the <b>counts</b> of the respective number of occurrences of each pattern. This motivates our consideration of another fundamental Python object -- namely, that of a <b>dictionary</b>.  In particular, the command <b>dict</b> creates a Python dictionary, which is a <i>set</i> (order does matter) of key-value pairs of the form \n\n<b>{ key1:value1, key2:value2, \u2026 } </b>\n\nFor example, <b> dict( a = 5, b=7, c=3 ) </b> creates the dictionary object\n\n<b> { 'a': 5,  'b': 7, 'c':3 } </b>\n\nBelow are additional examples of dictionary uses in Python. "
    },
    {
     "cell_type": "code",
     "collapsed": false,
     "input": "MyDictionary = dict( a = 5, b=7, c=3 ) # bind to the name \nprint( \"MyDictionary['a'] = \" + str( MyDictionary['a'] ) )\n\nMyDictionary.keys() #returns the keys for the dictionary",
     "language": "python",
     "metadata": {},
     "outputs": []
    },
    {
     "cell_type": "markdown",
     "metadata": {},
     "source": "Thus, to count the number of occurences of each subpattern, we need only implement the following algorithm: \n\nGiven a <b>SearchString</b> and a list of <b>Patterns</b>: \n\n* Create a dictinary <b>PatternCount</b> where the Patterns are the keys and the counts are 0 initially\n* Loop through each successive substring of length 2 in <b>SearchString</b>\n* *  Compare to each pattern\n* *  If a match, increase the count for that pattern by 1\n\nThat's it.  Once we've progressed through the entire <b>SearchString</b>, we will have the resulting counts.  \n\nSo how do we create the appropriate dictionary?  Type in <b>dict.</b> and press the <b>[tab]</b> key.  Which of the methods attached to <b>dict</b> do you think we will use to create <b>PatternCounts</b>? (may want to choose, put open parenthesis after, and then hit the <b>[tab]</b> key to get information about individual methods)> "
    },
    {
     "cell_type": "code",
     "collapsed": false,
     "input": "dict.fromkeys(",
     "language": "python",
     "metadata": {},
     "outputs": []
    },
    {
     "cell_type": "markdown",
     "metadata": {},
     "source": "If you play with it long enough, you will eventually discover the <b>fromkeys</b> method, and its tooltip is\n\n<b>dict.fromkeys(S[,v]) -> New dict with keys from S and values equal to v. v defaults to None.</b>\n\nThis means that <b>fromkeys</b> will create a new dictionary with keys from a list (or similar object) denoted by <b>S</b>, and that it optionally (square brackets in tooltip signify optional arguments) will assign a value <b>v</b> to each key as the dictionary is being created.  We want to generate <b>PatternCounts</b> from the list <b>Patterns</b> with initial values of 0, so we use <b>fromkeys</b>. "
    },
    {
     "cell_type": "code",
     "collapsed": false,
     "input": "PatternCounts = dict.fromkeys(Patterns,0)\nPatternCounts",
     "language": "python",
     "metadata": {},
     "outputs": []
    },
    {
     "cell_type": "markdown",
     "metadata": {},
     "source": "Finally, we need to figure out how to loop through the 2-letter subpatterns in the <b>SearchString</b>, how to loop through the patterns in <b>Patterns</b>, and how to decide <b>if</b> we have match (and thus increase the counts).  One method of looping in Python is known as a <b>for</b> loop, which can be used in the form \n\n<b>for  item in ListOfItems: </b>\n\n<b> &nbsp;&nbsp;&nbsp;&nbsp;&nbsp;&nbsp; First_Command_in_Loop</b>\n\n<b> &nbsp;&nbsp;&nbsp;&nbsp;&nbsp;&nbsp; Second_Command_in_Loop </b>\n\nTwo things to notice here:  \n\n1. There is a colon (:) at the end of the first line. \n\n2. Commands to be executed <b>within the loop</b> are indented. \n\nSpecifically, in Python, <i style=\"font-size:larger\">whitespace is syntax!!</i>  That is, we use spacing to indicate what is in the loop and what is not (i.e., if not indented, then not in loop). For example, execute ( <b>[shift]-[enter]</b> ) the cell below to see a <b>for</b> loop that simply prints out the entries in a list (i.e., one created by <b>range</b> ). \n    "
    },
    {
     "cell_type": "code",
     "collapsed": false,
     "input": "for i in range(5):\n    print(i)",
     "language": "python",
     "metadata": {},
     "outputs": []
    },
    {
     "cell_type": "markdown",
     "metadata": {},
     "source": "The other structure we will use is the <b>if</b> statement.  It is of the form \n\n<b>if condition_to_be_tested :</b>\n\n<b>&nbsp;&nbsp;&nbsp;&nbsp;&nbsp;&nbsp;First Command to execute if condition is true</b>\n\n<b>&nbsp;&nbsp;&nbsp;&nbsp;&nbsp;&nbsp;Second Commmand to execute if condittion is true</b>\n\nAgain, whitespace (i.e., indentation) is used to show what is to be done if the condition is true.  Try it out below. \n\n"
    },
    {
     "cell_type": "code",
     "collapsed": false,
     "input": "condition = False  # Change to True to see what happens differently \n\nif( condition) :\n    print(\"You set the condition variable to the value True\")",
     "language": "python",
     "metadata": {},
     "outputs": []
    },
    {
     "cell_type": "markdown",
     "metadata": {},
     "source": "Now we know the relevant Python structures, but let's not get ahead of ourselves.  We will want to know if this is going to work, so let's first do the simple example given above <i>on paper</i> using a <b><i>loop table</i></b>, which is simply a table that shows what happens as we repeat a series of commands several times.  \n\n<img src=\"http://math.etsu.edu/knisleyj/images/PatternCountLoopTable.png\" alt = \"Pattern Count Loop Table\" width = \"800\" style=\"display:block;margin-left:auto;margin-right:auto\" />\n\nThis gives us a good idea of how the algorithm should work, and most importantly, it introduces a very, very, very important concept in modern computing: \n\n<p style=\"font-size:larger;color:#880000;display:block;margin-left:auto;margin-right:auto\">Implementations of algorithms should be tested!!</p>\n    \nThere are very formal and powerful methods for testing Python codes.  For right now, we simply use the <b>loop table</b> as a well-established outcome that our Python implementation should reproduce. \n\nNotice also that the loop table implies the elements that make up our algorithm.  \n\n1. We create <b>PatternCounts</b> as a dictionary with patterns as the keys and zeros for the values.  \n2. For i from 0 to the length of the <b>SearchString</b>, \n&nbsp;&nbsp;&nbsp;&nbsp;&nbsp; 2a. Loop through the individual patterns \n&nbsp;&nbsp;&nbsp;&nbsp;&nbsp;&nbsp;&nbsp;&nbsp;&nbsp;&nbsp; 2a1. Compare substrings of the form <b>SearchString[i:(i+2)]</b> to each pattern\n&nbsp;&nbsp;&nbsp;&nbsp;&nbsp;&nbsp;&nbsp;&nbsp;&nbsp;&nbsp; 2a2. If a match, increment the corresponding <b>PatternCount</b>\n\nBelow is the algorithm as just described, written only with the Python you have already seen above.  \n"
    },
    {
     "cell_type": "code",
     "collapsed": false,
     "input": "SearchString  = \"ACGTCGAA\"\nPatterns = [ 'CG' , 'AA' ]\nPatternCounts = dict.fromkeys(Patterns,0)\nfor i in range( len(SearchString)  ):\n    for pat in Patterns:  # pat alternates between 'CG' and 'AA' \n        if( SearchString[i:(i+2)] == pat ):\n\t\t      PatternCounts[pat] += 1 \nPatternCounts",
     "language": "python",
     "metadata": {},
     "outputs": []
    },
    {
     "cell_type": "markdown",
     "metadata": {},
     "source": "<b style=\"font-size:larger\">Note:</b> The final <b>PatternCounts</b> is not indented, so it is not part of the for loops.  Instead it is executed only once, at the end, to show us the result of the algorithm. \n\nYour first assignment (below) will be to use this algorithm to count patterns in more involved strings, such as the US Constitution or on a webpage.  We won't use anything too long as a <b>SearchString</b>, however, because we don't know how <i>fast</i> this algorithm is -- an issue we will turn to later.  Suffice it to say for now that if you tried to use this to count patterns in the DNA that makes up the Human Genome, you might have to wait a very long time for this algorithm to finish. \n\nHowever, there are two issues to address before we do this.\n\n1. What about patterns that are not of length 2? \n\n2. How can I avoid having to retype the code above everytime I want to do a <b>PatternCount</b>?\n\nThe answer to the first is quite simple.  Each pattern is length 2, which is reflected in the command <b>SearchString[i:(i+2)]</b>.  If we replace the \"2\" by <b>len(pat)</b>, the length of the current pattern, then the algorithm will work for patterns of any length (see below). "
    },
    {
     "cell_type": "code",
     "collapsed": false,
     "input": "SearchString  = \"ACGTCGAA\"\nPatterns = [ 'CG' , 'AA', 'GTC' ]\nPatternCounts = dict.fromkeys(Patterns,0)\nfor i in range( len(SearchString)  ):\n    for pat in Patterns:   \n        if( SearchString[i:(i+len(pat))] == pat ): # note the change to i+len(pat)\n\t\t      PatternCounts[pat] += 1 \nPatternCounts",
     "language": "python",
     "metadata": {},
     "outputs": []
    },
    {
     "cell_type": "markdown",
     "metadata": {},
     "source": "The answer to the second question is that we can <b>def</b>ine a <i>function</i> whose inputs ( i.e., arguments) are the <b>SearchString</b> and <b>Patterns</b> and whose output (i.e., what is <b>return</b>ed ) is the dictionary of counts.  In Python, functions are <b>def</b>ined using the structure \n\n<b>def MyFunction( inputs ): </b>\n\n<b>&nbsp;&nbsp;&nbsp;&nbsp;&nbsp;\"docstring\"  # info for anyone using the function (shows up in its tooltip) </b>\n\n<b>&nbsp;&nbsp;&nbsp;&nbsp;&nbsp;First Command Used To define MyFunction</b>\n\n<b>&nbsp;&nbsp;&nbsp;&nbsp;&nbsp;Second Command Used to define MyFunction</b>\n\n<b>&nbsp;&nbsp;&nbsp;&nbsp;&nbsp;...</b>\n\n<b>&nbsp;&nbsp;&nbsp;&nbsp;&nbsp;return ResultingOutput</b>\n\nNotice again that <i style=\"font-size:larger\">indentation defines what commands are in the function.  </i> After execution, the result is a Python <b>function</b> object bound to the name <b>MyFunction</b>.  \n\nBelow we create the function <b>PatternCounter</b> using the code we have already seen (but indented to make it part of the function definition). "
    },
    {
     "cell_type": "code",
     "collapsed": false,
     "input": "def PatternCounter( SearchString, Patterns):\n    \"PatternCounter( S, P ) -> dict of number of times patterns in P occur in S\"\n    PatternCounts = dict.fromkeys(Patterns,0)\n    for i in range( len(SearchString)  ):\n        for pat in Patterns:\n            if( SearchString[i:(i+len(pat))] == pat ): # note the change to i+len(pat)\n\t\t      PatternCounts[pat] += 1 \n    return PatternCounts ",
     "language": "python",
     "metadata": {},
     "outputs": []
    },
    {
     "cell_type": "markdown",
     "metadata": {},
     "source": "Let's try it out. We simply supply a SearchString and a list of Patterns, and the <b>PatternCounter</b> function will produce the results ( <b>[shift]-[enter]</b> in the cell below ). "
    },
    {
     "cell_type": "code",
     "collapsed": false,
     "input": "PatternCounter( \"ACGTCGAA\", ['CG','AA','GTC'] )",
     "language": "python",
     "metadata": {},
     "outputs": []
    },
    {
     "cell_type": "markdown",
     "metadata": {},
     "source": "Now that <b>PatternCounter</b> is a reusable function object, we can use it to start counting all sorts of things.  For example, the shortest viral genomes are those in the virus family </i>Circoviridae</i>.  The string below is the complete genome of the Porcine Cirocovirus and is 1,767 basepairs (i.e., letters) in length. \n\nPlace your cursor anywhere in the cell below (don't have to go to the end -- can just put it after <b>PorcineCirocovirusGenome</b> if you like).  Then <b>[shift]-[enter]</b> to bind to the name "
    },
    {
     "cell_type": "code",
     "collapsed": false,
     "input": "PorcineCirocovirusGenome = \"ACCAGCGCACTTCGGCAGCGGCAGCACCTCGGCAGCACCTCAGCAGCAACATGCCCAGCAAGAAGAGTGGAAGAAGCGGACCCCAACCACATAAAAGGTGGGTGTTCACGCTGAATAATCCTTCCGAAGACGAGCGCAAGAAAATACGGGAGCTCCCAATCTCCCTATTTGATTATTTTATTGTTGGCGAGGAAGGTAATGAGGAGGGCCGAACACCTCACCTACAGGGGTTCGCTAATTTTGTGAAGAAGCAAACTTTTAATAAAGTGAAGTGGTATTTTGGTGCCCGCTGCCACATCGAGAAAGCGAAAGGAACAGATCAGCAGAATAAAGAATATTGCAGTAAAGAAGGCAACTTACTGATAGAATGTGGAGCTCCTAGATCTCAAGGACAACGGAGTGACCTCTCTACTGCTGTGAGTACCTTGTTGGAGAGCGGGAGTCTGGTGACCGTTGCAGAGCAGCACCCTGTAACGTTTGTCAGAAATTTCCGCGGGCTGGCTGAACTTTTGAAAGTGAGCGGGAAAATGCAGAAGCGTGATTGGAAGACGAATGTACACGTCATTGTGGGGCCACCTGGGTGTGGCAAAAGCAAATGGGCTGCTAATTTTGCAGACCCGGAAACCACATACTGGAAACCACCTAGAAACAAGTGGTGGGATGGTTACCATGGTGAAGAAGTGGTTGTTATTGATGACTTTTATGGCTGGCTGCCGTGGGATGATCTACTGAGACTCTGTGATCGATATCCTTTGACTGTTGAGACTAAAGGTGGAACTGTACCTTTTTTGGCCCGCAGTATTCTGATTACCAGCAATCAGACCCCGTTGGAATGGTACTCCTCAACTGCTGTCCCAGCTGTAGAAGCTCTCTATCGGAGGATTACTTCCTTGGTATTTTGGAAGAATGCTACAGAACAATCCACGGAGGAAGGGGGCCAGTTCGTCACCCTTTCCCCCCCATGCCCTGAATTTCCATATGAAATAAATTACTGAGTCTTTTTTATCACTTCGTAATGGTTTTTATTATTCACTTAGGGTTAAGTGGGGGGTCTTTAAGATTAAATTCTCTGAATTGTACATACATGGTTATACGGATATTGTAGTCCTGGTCGTATATACTGTTTTCGAATGCAGTGCCGAGGCCTACATGGTCTACATTTCCAGTAGTTTGTAGTCTCAGCCAGAGTTGATTTCTTTTGTTATTGGGTTGGAAGTAATCGATTGTCCTATCAAGGACAGGTTTCGGGGTAAAGTACCGGGAGTGGTAGGAGAAGGGCTGGGTTATGGTATGGCGGGAGGAGTAGTTTACATAGGGGTCATAGGTTAGGGCATTGGCCTTTGTTACAAAGTTATCATCTAGAATAACAGCAGTGGAGCCCACTCCCCTGTCACCCTGGGTGATTGGGGAGCAGGGCCAGAATTCAACCTTAACCTTTCTTATTCTGTAGTATTCAAAGGGCACAGTGAGGGGGTTTGAGCCCCCTCCTGGGGGAAGAAAATCATTAATATTAAATCTCATCATGTCCACATTCCAGGAGGGCGTTCTGACTGTGGTTTTCTTGACAGTATAACCGATGGTGCGGGAGAGGCGGGTGTTGAAAATGCCATTTTTCCTTCTCCAGCGGTAACGGTGGCGGGGGTGGACGAGCCAGGGGCGGCGGCGGAGGATCTGGCTAAGATGGCTGCGGGGGCGGTGTCTTCGTCTGCGGAAACGCCTCCTTGGATACGTCATCGCTGAAAACGAAAGAAGTGCGCTGTAAGTATT\"",
     "language": "python",
     "metadata": {},
     "outputs": []
    },
    {
     "cell_type": "markdown",
     "metadata": {},
     "source": "Now let's see how often \"CG\" and \"AA\" pairs occur in the Porcine Cirocovirus genome. "
    },
    {
     "cell_type": "code",
     "collapsed": false,
     "input": "PatternCounter( PorcineCirocovirusGenome, [ 'CG', 'AA' ] )",
     "language": "python",
     "metadata": {},
     "outputs": []
    },
    {
     "cell_type": "markdown",
     "metadata": {},
     "source": "Unfortunately, the shortest <i>non-</i>viral genome is more than 500,000 letters (basepairs) long (for a certain bacterium), so we won't go in that direction.  However, we can use <b>PatternCounter</b> for non-biological examples (it is, after all, a reusable Python function object that we can apply at will). \n\nFor example, below is a triple-quoted string (perfectly fine for use in <b>PatternCounter</b> containing the famous American poem \"Trees\" by Joyce Kilmer.  <b>[shift]-[enter]</b> to load. \n\nNOTE: A backslash at the end of a line (see first line below) tells Python to continue on to the next line to complete that command. "
    },
    {
     "cell_type": "code",
     "collapsed": false,
     "input": "TreesByJoyceKilmer = \"\"\"\\\nI THINK that I shall never see\t \nA poem lovely as a tree.\t \n  \nA tree whose hungry mouth is prest\t \nAgainst the sweet earth's flowing breast;\t \n  \nA tree that looks at God all day,\nAnd lifts her leafy arms to pray;\t \n  \nA tree that may in summer wear\t \nA nest of robins in her hair;\t \n  \nUpon whose bosom snow has lain;\t \nWho intimately lives with rain.\t\n  \nPoems are made by fools like me,\t \nBut only God can make a tree.\"\"\"",
     "language": "python",
     "metadata": {},
     "outputs": []
    },
    {
     "cell_type": "markdown",
     "metadata": {},
     "source": "Let's search for the patterns \"TREE\" and \"POEM\" in this string.  Before doing so, however, we see that <b>TreesByJoyceKilmer</b> contains both uppercase and lowercase letters.  Fortunately, string objects have an attached method <b>upper</b> for converting everything to uppercase.  "
    },
    {
     "cell_type": "code",
     "collapsed": false,
     "input": "print( TreesByJoyceKilmer.upper() )",
     "language": "python",
     "metadata": {},
     "outputs": []
    },
    {
     "cell_type": "markdown",
     "metadata": {},
     "source": "So let's count!! Execute the line below to count the number of times \"TREE\" and \"POEM\" occur in <b>TreesByJoyceKilmer</b>.  "
    },
    {
     "cell_type": "code",
     "collapsed": false,
     "input": "PatternCounter( TreesByJoyceKilmer.upper(), [ \"TREE\", \"POEM\" ] )",
     "language": "python",
     "metadata": {},
     "outputs": []
    },
    {
     "cell_type": "markdown",
     "metadata": {},
     "source": "And now, it's your turn.   \n\n "
    },
    {
     "cell_type": "markdown",
     "metadata": {},
     "source": "<p> &nbsp; </p>\n<p> <h3> Assignment 2:</h3> </p> \n\nChoose your own SearchString -- a short poem, an essay, a protein sequence, etcetera -- with the restrictions that it cannot be DNA, it cannot be the \"Zen of Python,\" and it cannot be more than 2000 characters.  \n\nEnter the string in the cell below bound to a meaningful name, and then search for some patterns (plural) of your choosing (short patterns).  Note: You may have to convert to all uppercase. \n\nOnce you have counted the patterns, write a short LaTeX article (not here -- in a LaTeX editor ) with 4 sections, starting with the template below, that explains why you chose that SearchString, what patterns you searched for, how the command <b>PythonCounter</b> works, what results you obtained, and why they are important.  \n\n\n<b>Requirement:</b>  You must place your chosen text inside a \\begin{quote} ... \\end{quote} environment in the Introduction section.\n\n<b>Requirement:</b>  You must place a listing of the code -- with proper indentation -- inside a \\begin{verbatim} ... \\end{verbatim} environment in the Methods section.  \n\n\n(Note: You may not have any math in this assignment, which is okay. )  \n"
    },
    {
     "cell_type": "raw",
     "metadata": {},
     "source": "\\documentclass{article}\n\n\\title{Name of your Article}\n\\author{  Ima Student }\n\\date{ February 7, 2013}\n\n\\begin{document}\n\\maketitle\n\n\\section{Introduction} % Describe choices for SearchString, meaningful names, and Patterns\n\n\\section{Methods} % Explain how PythonCounter works \n\n\\section{Results} % Report your results \n\n\\section{Conclusions} \n\n\\end{document} "
    },
    {
     "cell_type": "code",
     "collapsed": false,
     "input": "",
     "language": "python",
     "metadata": {},
     "outputs": []
    },
    {
     "cell_type": "code",
     "collapsed": false,
     "input": "",
     "language": "python",
     "metadata": {},
     "outputs": []
    },
    {
     "cell_type": "code",
     "collapsed": false,
     "input": "",
     "language": "python",
     "metadata": {},
     "outputs": []
    },
    {
     "cell_type": "code",
     "collapsed": false,
     "input": "",
     "language": "python",
     "metadata": {},
     "outputs": []
    },
    {
     "cell_type": "code",
     "collapsed": false,
     "input": "",
     "language": "python",
     "metadata": {},
     "outputs": []
    },
    {
     "cell_type": "code",
     "collapsed": false,
     "input": "",
     "language": "python",
     "metadata": {},
     "outputs": []
    }
   ],
   "metadata": {}
  }
 ]
}