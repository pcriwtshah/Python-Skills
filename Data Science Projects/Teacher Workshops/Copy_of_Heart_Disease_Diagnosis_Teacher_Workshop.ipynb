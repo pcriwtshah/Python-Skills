{
  "nbformat": 4,
  "nbformat_minor": 0,
  "metadata": {
    "colab": {
      "name": "Copy of Heart Disease Diagnosis - Teacher Workshop.ipynb",
      "provenance": []
    },
    "kernelspec": {
      "name": "python3",
      "display_name": "Python 3"
    }
  },
  "cells": [
    {
      "cell_type": "markdown",
      "metadata": {
        "id": "kcUld0dFSh7D"
      },
      "source": [
        "#Diagnosing Heart Disease with AI: Creating a Model\n",
        "*Daniela Ganelin,\n",
        "[Inspirit AI](inspiritai)*\n",
        "\n",
        "Heart disease is one of the world's biggest heath problems! [**Almost half**](https://www.heart.org/en/news/2019/01/31/cardiovascular-diseases-affect-nearly-half-of-american-adults-statistics-show) of American adults have some kind of heart disease.\n",
        "\n",
        "Usually, heart disease is diagnosed through a [special X-ray](https://www.mayoclinic.org/tests-procedures/coronary-angiogram/about/pac-20384904) where dye is injected into the body. Of course, that's a pretty complicated and expensive procedure!\n",
        "\n",
        "<img src=\"https://upload.wikimedia.org/wikipedia/commons/f/f3/Herzkatheterlabor_modern.jpeg\" alt=\"drawing\" height=\"250px\"/>\n",
        "\n",
        "<img src=\"https://upload.wikimedia.org/wikipedia/commons/3/30/Cerebral_angiography%2C_arteria_vertebralis_sinister_injection.JPG\" alt=\"drawing\" height=\"250px\"/>\n",
        "\n",
        "What if we could instead use AI to diagnose heart disease based on **some simple lab tests** that any doctor or nurse could perform? **How could AI help people?**\n",
        "\n",
        "Let's try it! In this lab, we'll:\n",
        "- Explore a heart disease dataset\n",
        "- Make graphs to visualize the data\n",
        "- Try to diagnose heart disease with simple rules\n",
        "- Make and improve a machine learning model to diagnose heart disease!"
      ]
    },
    {
      "cell_type": "markdown",
      "metadata": {
        "id": "6KGFvgq8W4Ne"
      },
      "source": [
        "#Understanding Our Data"
      ]
    },
    {
      "cell_type": "code",
      "metadata": {
        "id": "yBh8rhqDjjbT",
        "cellView": "form"
      },
      "source": [
        "#@title Run this to load our tools and data!\n",
        "\n",
        "#Check out this post for more details! https://www.kaggle.com/ronitf/heart-disease-uci/discussion/105877\n",
        "\n",
        "import pandas as pd   # Great for tables (google spreadsheets, microsoft excel, csv). \n",
        "import os # Good for navigating your computer's files \n",
        "import gdown\n",
        "import seaborn as sns\n",
        "from sklearn.metrics import accuracy_score\n",
        "from sklearn import tree\n",
        "import matplotlib.pyplot as plt\n",
        "from sklearn.tree import DecisionTreeClassifier\n",
        "\n",
        "gdown.download('https://drive.google.com/uc?id=1JmrQ7RAIWQR7NK9ziHpW9FTpathgGSI3', 'heart.csv', True)\n",
        "patient_data = pd.read_csv(\"heart.csv\")\n",
        "patient_data = patient_data[['age', 'sex', 'cp', 'trestbps', 'chol', 'fbs', 'thalach', 'exang', 'target']]\n",
        "column_names = {'age':'age','sex':'sex','cp':'chest_pain', 'trestbps':'blood_pressure','chol':'cholesterol','fbs':'high_blood_sugar','thalach':'heart_rate','exang':'exercise_pain','target':'disease'}\n",
        "patient_data = patient_data.rename(column_names,axis=1)\n",
        "patient_data['chest_pain'] = (patient_data['chest_pain'] > 0).astype(int) #1 for yes, 0 for no\n",
        "patient_data['disease'] = 1 - patient_data['disease'] #1 for yes, 0 for no\n",
        "patient_data = patient_data[['age', 'blood_pressure',  'cholesterol', 'heart_rate', 'sex', 'high_blood_sugar', 'chest_pain', 'exercise_pain', 'disease']]\n",
        "\n",
        "def show_predictions(predictions):\n",
        "  df = patient_data[['heart_rate','disease']].copy()\n",
        "  df['prediction'] = predictions\n",
        "  print (\"Percent accurate:\", accuracy_score(patient_data['disease'], predictions))\n",
        "  display(df)\n",
        "\n",
        "def visualize_tree(model, input_data):\n",
        "  fig_size = min(model.max_depth * 2, 40)\n",
        "  fig, axes = plt.subplots(nrows = 1,ncols = 1,figsize = (fig_size,fig_size), dpi=800)\n",
        "  tree.plot_tree(model, \n",
        "                class_names=['no disease', 'disease'], \n",
        "                feature_names = input_data.columns, \n",
        "                filled = True,\n",
        "                impurity = False)"
      ],
      "execution_count": null,
      "outputs": []
    },
    {
      "cell_type": "markdown",
      "metadata": {
        "id": "fscReip4Zw9j"
      },
      "source": [
        "Let's take a look at the Cleveland Heart Disease Dataset from real patients!"
      ]
    },
    {
      "cell_type": "code",
      "metadata": {
        "id": "LA2dOTo2QGcW"
      },
      "source": [
        "display (patient_data)"
      ],
      "execution_count": null,
      "outputs": []
    },
    {
      "cell_type": "markdown",
      "metadata": {
        "id": "kDZs_W9Banq9"
      },
      "source": [
        "Let's understand our data! Work with your team to answer the questions, and click Play to check your answers."
      ]
    },
    {
      "cell_type": "code",
      "metadata": {
        "id": "t0494KtabBK5",
        "cellView": "form"
      },
      "source": [
        "#@title How many patients are there? (Choose a number and then click play!)\n",
        "num_patients = 0 #@param {type:\"slider\", min:0, max:500, step:1}\n",
        " \n",
        "if num_patients == len(patient_data):\n",
        "  print (\"Correct!\")\n",
        "else:\n",
        "  print (\"Try again!\")\n"
      ],
      "execution_count": null,
      "outputs": []
    },
    {
      "cell_type": "code",
      "metadata": {
        "cellView": "form",
        "id": "NIi6xl6gnPx7"
      },
      "source": [
        "#@title Our output - the column we're trying to predict - is:\n",
        "to_predict = \"Choose here!\" #@param [\"Choose here!\", 'age', 'sex', 'chest_pain', 'blood_pressure', 'cholesterol','high_blood_sugar', 'heart_rate', 'exercise_pain', 'disease']\n",
        "\n",
        "if to_predict == \"disease\":\n",
        "  print (\"Yes! We're going to use all the other columns, or features, to predict whether someone has heart disease.\")\n",
        "else:\n",
        "  print (\"Try again!\")"
      ],
      "execution_count": null,
      "outputs": []
    },
    {
      "cell_type": "code",
      "metadata": {
        "id": "XO8Gh1-NyYq2",
        "cellView": "form"
      },
      "source": [
        "#@title How do we interpret the \"disease\" feature?\n",
        "\n",
        "healthy = \"Choose here!\" #@param [\"Choose here!\", \"-1\", \"0\", \"1\", \"2\"]\n",
        "heart_disease = \"Choose here!\" #@param [\"Choose here!\", \"-1\", \"0\", \"1\", \"2\"]\n",
        "\n",
        "if healthy == \"0\" and heart_disease == \"1\":\n",
        "  print (\"Correct!\")\n",
        "else:\n",
        "  print (\"Try again!\")"
      ],
      "execution_count": null,
      "outputs": []
    },
    {
      "cell_type": "code",
      "metadata": {
        "cellView": "form",
        "id": "TQU4JU-dxqam"
      },
      "source": [
        "#@title How many input features (other columns) will we use to make our predictions?\n",
        "num_features = 0 #@param {type:\"slider\", min:0, max:12, step:1}\n",
        " \n",
        "if num_features == len(patient_data.columns)-1:\n",
        "  print (\"Correct! They are:\", list(patient_data.drop('disease',axis=1).columns))\n",
        "else:\n",
        "  print (\"Try again!\")\n"
      ],
      "execution_count": null,
      "outputs": []
    },
    {
      "cell_type": "markdown",
      "metadata": {
        "id": "3jdRYkjx7JgE"
      },
      "source": [
        "#Exploring our Numerical Data\n",
        "\n",
        "**Discuss:** Of our input features, which do you think would be **most** useful for predicting whether someone has heart disease? Make a guess:\n"
      ]
    },
    {
      "cell_type": "code",
      "metadata": {
        "id": "hSmazRIY7u_h",
        "cellView": "form"
      },
      "source": [
        "most_useful = \"Choose here!\" #@param ['Choose here!', 'age', 'blood_pressure', 'cholesterol', 'heart_rate', 'sex', 'high_blood_sugar', 'chest_pain', 'exercise_pain']\n",
        "\n",
        "print (\"Let's test your guess!\")"
      ],
      "execution_count": null,
      "outputs": []
    },
    {
      "cell_type": "markdown",
      "metadata": {
        "id": "BIxTOZau7vRg"
      },
      "source": [
        "Let's explore one feature at a time! We'll start with the **numerical** features: features where the values are **numbers**."
      ]
    },
    {
      "cell_type": "markdown",
      "metadata": {
        "id": "9AGtaPXl8Ev6"
      },
      "source": [
        "##Exploring `age`"
      ]
    },
    {
      "cell_type": "markdown",
      "metadata": {
        "id": "P56a2eX88qnh"
      },
      "source": [
        "Here's the `Age` column:"
      ]
    },
    {
      "cell_type": "code",
      "metadata": {
        "id": "cr4Hmupm8sd-"
      },
      "source": [
        "display(patient_data[['age']])"
      ],
      "execution_count": null,
      "outputs": []
    },
    {
      "cell_type": "code",
      "metadata": {
        "id": "L5Rt7sD_bpQc",
        "cellView": "form"
      },
      "source": [
        "#@title Age is measured in:\n",
        "\n",
        "age_units = \"Choose here!\" #@param [\"Choose here!\", \"months\", \"days\", \"years\", \"centuries\"]\n",
        "\n",
        "if age_units == \"years\":\n",
        "  print (\"Correct!\")\n",
        "else:\n",
        "  print (\"Try again!\")"
      ],
      "execution_count": null,
      "outputs": []
    },
    {
      "cell_type": "markdown",
      "metadata": {
        "id": "FMHID3IA8ZUO"
      },
      "source": [
        "Let's graph our data! We'll use a libary called \"seaborn\", or \"sns\", to make graphs.\n",
        "\n",
        "**Discuss:** How do we read this graph? What patterns do you notice? How much would \"age\" help us predict whether someone has heart disease?"
      ]
    },
    {
      "cell_type": "code",
      "metadata": {
        "id": "Qqr4jTX-8Mbq"
      },
      "source": [
        "sns.catplot(x=\"disease\", y=\"age\", data=patient_data)"
      ],
      "execution_count": null,
      "outputs": []
    },
    {
      "cell_type": "markdown",
      "metadata": {
        "id": "9U8g27398-fq"
      },
      "source": [
        "##Exploring `blood_pressure`\n",
        "\n",
        "Now, let's check out the `blood_pressure` variable! Please **show that column of the data**, like we did before:"
      ]
    },
    {
      "cell_type": "code",
      "metadata": {
        "id": "ztKPEw5m9PVA"
      },
      "source": [
        "#YOUR CODE HERE (1 line)"
      ],
      "execution_count": null,
      "outputs": []
    },
    {
      "cell_type": "code",
      "metadata": {
        "id": "3xYVxOPJ9RID",
        "cellView": "form"
      },
      "source": [
        "#@title Solution\n",
        "display(patient_data[['blood_pressure']])"
      ],
      "execution_count": null,
      "outputs": []
    },
    {
      "cell_type": "code",
      "metadata": {
        "id": "x42s0ebzefQN",
        "cellView": "form"
      },
      "source": [
        "#@title \"blood_pressure\" is measured in \"mm Hg\". I predict that's it's healthier for blood pressure to be:\n",
        "healthier_blood_pressure = \"Choose here!\" #@param [\"Choose here!\", \"Lower\", \"Higher\"]\n",
        "\n",
        "if healthier_blood_pressure == \"Lower\":\n",
        "  print (\"Good prediction!\")\n",
        "else:\n",
        "  print (\"Try again!\")"
      ],
      "execution_count": null,
      "outputs": []
    },
    {
      "cell_type": "markdown",
      "metadata": {
        "id": "aSFSiVlp9a9R"
      },
      "source": [
        "Please **make a graph** showing how blood pressure and heart disease are related! **Discuss:** How useful is this feature? Any surprises?"
      ]
    },
    {
      "cell_type": "code",
      "metadata": {
        "id": "mJGmPS4j9hKt"
      },
      "source": [
        "#YOUR CODE HERE (1 line)"
      ],
      "execution_count": null,
      "outputs": []
    },
    {
      "cell_type": "code",
      "metadata": {
        "id": "9epM7kBn9jn8",
        "cellView": "form"
      },
      "source": [
        "#@title Solution\n",
        "sns.catplot(x=\"disease\", y=\"blood_pressure\", data=patient_data)"
      ],
      "execution_count": null,
      "outputs": []
    },
    {
      "cell_type": "markdown",
      "metadata": {
        "id": "YwkbyRvQ92UA"
      },
      "source": [
        "##Exploring `cholesterol`\n",
        "\n",
        "Next up is the `cholesterol` feature."
      ]
    },
    {
      "cell_type": "code",
      "metadata": {
        "id": "o8d0Qlcem3Df",
        "cellView": "form"
      },
      "source": [
        "#@title \"cholesterol\" is measured in \"mg/dl\". I predict that's it's healthier for cholesterol to be:\n",
        "healthier_cholesterol = \"Choose here!\" #@param [\"Choose here!\", \"Lower\", \"Higher\"]\n",
        "\n",
        "if healthier_cholesterol == \"Lower\":\n",
        "  print (\"Good prediction!\")\n",
        "else:\n",
        "  print (\"Try again!\")"
      ],
      "execution_count": null,
      "outputs": []
    },
    {
      "cell_type": "markdown",
      "metadata": {
        "id": "WyikQAzy987B"
      },
      "source": [
        "As before, please **print out the column** and **make and discuss a graph!** Any surprises?"
      ]
    },
    {
      "cell_type": "code",
      "metadata": {
        "id": "0WAv1_MyBe8L"
      },
      "source": [
        "#YOUR CODE HERE to print the column "
      ],
      "execution_count": null,
      "outputs": []
    },
    {
      "cell_type": "code",
      "metadata": {
        "id": "bwc59jT7-Akn"
      },
      "source": [
        "#YOUR CODE HERE to make a graph"
      ],
      "execution_count": null,
      "outputs": []
    },
    {
      "cell_type": "code",
      "metadata": {
        "id": "TJS0jIFH-DH0",
        "cellView": "form"
      },
      "source": [
        "#@title Solution\n",
        "display(patient_data[['cholesterol']])\n",
        "sns.catplot(x=\"disease\", y=\"cholesterol\", data=patient_data)\n"
      ],
      "execution_count": null,
      "outputs": []
    },
    {
      "cell_type": "markdown",
      "metadata": {
        "id": "AfizYWxeBj79"
      },
      "source": [
        "#Exploring `heart_rate`\n",
        "\n",
        "Last numerical feature: heart rate!"
      ]
    },
    {
      "cell_type": "code",
      "metadata": {
        "id": "znhoh851rgu4",
        "cellView": "form"
      },
      "source": [
        "#@title Heart rate is the patient's highest heart rate while they exercise, in beats per minute. I predict that it's healthier for the maximum heart rate to be...\n",
        "healthier_heart_rate = \"Choose here!\" #@param [\"Choose here!\", \"Lower\", \"Higher\"]\n",
        "\n",
        "if healthier_heart_rate == \"Higher\":\n",
        "  print (\"Good prediction! It's healthier for to have a high exercise heart rate and a low resting heart rate.\")\n",
        "else:\n",
        "  print (\"Try again!\")"
      ],
      "execution_count": null,
      "outputs": []
    },
    {
      "cell_type": "markdown",
      "metadata": {
        "id": "8qW4w2_gB1PC"
      },
      "source": [
        "Let's test your prediction! You know what to do: look at the feature and the graph."
      ]
    },
    {
      "cell_type": "code",
      "metadata": {
        "id": "SPcybDJOB5J1"
      },
      "source": [
        "#YOUR CODE HERE"
      ],
      "execution_count": null,
      "outputs": []
    },
    {
      "cell_type": "code",
      "metadata": {
        "id": "jDc7WTDqB50o",
        "cellView": "form"
      },
      "source": [
        "#@title Solution\n",
        "sns.catplot(x=\"disease\", y=\"heart_rate\", data=patient_data)\n",
        "display(patient_data[['heart_rate']])\n"
      ],
      "execution_count": null,
      "outputs": []
    },
    {
      "cell_type": "markdown",
      "metadata": {
        "id": "d2ps_2U7FmwR"
      },
      "source": [
        "#Exploring our Categorical Data\n",
        "\n",
        "Now, let's check out our **categorical features**. For each of these, there are two possible values: for example, \"sick\" and \"healthy\". We represent these as 0 and 1 so our algorithms can do math with the data!"
      ]
    },
    {
      "cell_type": "markdown",
      "metadata": {
        "id": "UoDyXMXfGdzO"
      },
      "source": [
        "##Exploring the `sex` Feature\n",
        "\n",
        "Please print out the `sex` column, as before:"
      ]
    },
    {
      "cell_type": "code",
      "metadata": {
        "id": "mB4WO7S_G8Rf"
      },
      "source": [
        "#YOUR CODE HERE"
      ],
      "execution_count": null,
      "outputs": []
    },
    {
      "cell_type": "code",
      "metadata": {
        "id": "zlZwkbWvG6Ec",
        "cellView": "form"
      },
      "source": [
        "#@title Solution\n",
        "display(patient_data[['sex']])"
      ],
      "execution_count": null,
      "outputs": []
    },
    {
      "cell_type": "code",
      "metadata": {
        "id": "MJlL8Hi-b-DC",
        "cellView": "form"
      },
      "source": [
        "#@title How do we interpret the \"sex\" feature?\n",
        "\n",
        "female = \"Choose here!\" #@param [\"Choose here!\", \"-1\", \"0\", \"1\", \"2\"]\n",
        "male = \"Choose here!\" #@param [\"Choose here!\", \"-1\", \"0\", \"1\", \"2\"]\n",
        "\n",
        "if female == \"0\" and male == \"1\":\n",
        "  print (\"Correct!\")\n",
        "else:\n",
        "  print (\"Try again!\")"
      ],
      "execution_count": null,
      "outputs": []
    },
    {
      "cell_type": "markdown",
      "metadata": {
        "id": "F3P1JStwHCqG"
      },
      "source": [
        "We're going to make a different kind of graph for the categorical variables!\n",
        "\n",
        "**Discuss:** What's the relationship between gender and heart disease? In our overall dataset, do we have more men or women? Why might this be a problem?"
      ]
    },
    {
      "cell_type": "code",
      "metadata": {
        "id": "GShlrjFbHGSK"
      },
      "source": [
        "sns.catplot(x=\"disease\", hue=\"sex\", kind = \"count\",  data=patient_data)"
      ],
      "execution_count": null,
      "outputs": []
    },
    {
      "cell_type": "markdown",
      "metadata": {
        "id": "T24vzK0FwhZM"
      },
      "source": [
        "## Exploring `high_blood_sugar`\n",
        "\n",
        "Let's check out the next categorical feature."
      ]
    },
    {
      "cell_type": "code",
      "metadata": {
        "id": "vIuvlh9Pq7DX",
        "cellView": "form"
      },
      "source": [
        "#@title How do we interpret the \"high_blood_sugar\" features?\n",
        "\n",
        "blood_sugar_is_high = \"Choose here!\" #@param [\"Choose here!\", \"-1\", \"0\", \"1\", \"2\"]\n",
        "blood_sugar_is_normal = \"Choose here!\" #@param [\"Choose here!\", \"-1\", \"0\", \"1\", \"2\"]\n",
        "\n",
        "if blood_sugar_is_high == \"1\" and blood_sugar_is_normal == \"0\":\n",
        "  print (\"Correct!\")\n",
        "else:\n",
        "  print (\"Try again!\")"
      ],
      "execution_count": null,
      "outputs": []
    },
    {
      "cell_type": "markdown",
      "metadata": {
        "id": "g1dVrypawxL0"
      },
      "source": [
        "Please output the column from the data and a graph - what do the results show?"
      ]
    },
    {
      "cell_type": "code",
      "metadata": {
        "id": "Y3jsybsSwtyR"
      },
      "source": [
        "#YOUR CODE HERE"
      ],
      "execution_count": null,
      "outputs": []
    },
    {
      "cell_type": "code",
      "metadata": {
        "id": "8fB-C-8Ow3Ys",
        "cellView": "form"
      },
      "source": [
        "#@title Solution\n",
        "sns.catplot(x=\"disease\", hue=\"high_blood_sugar\", kind = \"count\",  data=patient_data)\n",
        "display(patient_data[['high_blood_sugar']])"
      ],
      "execution_count": null,
      "outputs": []
    },
    {
      "cell_type": "markdown",
      "metadata": {
        "id": "Y85STgpfC_a3"
      },
      "source": [
        "## Exploring the `chest_pain` feature\n",
        "\n",
        "Next, let's explore two similar features: `chest_pain` and `exercise_pain`."
      ]
    },
    {
      "cell_type": "code",
      "metadata": {
        "id": "Jl8YpnNWcz5g",
        "cellView": "form"
      },
      "source": [
        "#@title The \"chest_pain\" features shows whether people have chest pain in general. How do we interpret it?\n",
        "\n",
        "no_pain = \"Choose here!\" #@param [\"Choose here!\", \"-1\", \"0\", \"1\", \"2\"]\n",
        "has_pain = \"Choose here!\" #@param [\"Choose here!\", \"-1\", \"0\", \"1\", \"2\"]\n",
        "\n",
        "if no_pain == \"0\" and has_pain == \"1\":\n",
        "  print (\"Correct!\")\n",
        "else:\n",
        "  print (\"Try again!\")"
      ],
      "execution_count": null,
      "outputs": []
    },
    {
      "cell_type": "markdown",
      "metadata": {
        "id": "cj8AbAIyDLGP"
      },
      "source": [
        "As before, please output the column from the data and a graph.\n",
        "\n",
        "**Any surprising results here?** How could you explain them?"
      ]
    },
    {
      "cell_type": "code",
      "metadata": {
        "id": "QgpzCdGjDLGR"
      },
      "source": [
        "#YOUR CODE HERE"
      ],
      "execution_count": null,
      "outputs": []
    },
    {
      "cell_type": "code",
      "metadata": {
        "id": "D5Msln7mDLGS",
        "cellView": "form"
      },
      "source": [
        "#@title Solution\n",
        "sns.catplot(x=\"disease\", hue=\"chest_pain\", kind = \"count\",  data=patient_data)\n",
        "display(patient_data[['chest_pain']])"
      ],
      "execution_count": null,
      "outputs": []
    },
    {
      "cell_type": "markdown",
      "metadata": {
        "id": "tNtmYoKwGc0u"
      },
      "source": [
        "##Exploring `exercise_pain`\n",
        "\n",
        "You made it - last feature!\n",
        "\n"
      ]
    },
    {
      "cell_type": "code",
      "metadata": {
        "id": "dLr8wkW9sNil",
        "cellView": "form"
      },
      "source": [
        "#@title The \"exercise_pain\" features shows whether people have chest pain during exercise. How do we interpret it?\n",
        "\n",
        "no_pain = \"Choose here!\" #@param [\"Choose here!\", \"-1\", \"0\", \"1\", \"2\"]\n",
        "has_pain = \"Choose here!\" #@param [\"Choose here!\", \"-1\", \"0\", \"1\", \"2\"]\n",
        "\n",
        "if no_pain == \"0\" and has_pain == \"1\":\n",
        "  print (\"Correct!\")\n",
        "else:\n",
        "  print (\"Try again!\")"
      ],
      "execution_count": null,
      "outputs": []
    },
    {
      "cell_type": "markdown",
      "metadata": {
        "id": "sR9MMOKUGoxc"
      },
      "source": [
        "As before, please output the column from the data and a graph.\n",
        "\n",
        "**How is this feature different than the previous one? What could explain it?**"
      ]
    },
    {
      "cell_type": "code",
      "metadata": {
        "id": "dV4uucRqGoxd"
      },
      "source": [
        "#YOUR CODE HERE"
      ],
      "execution_count": null,
      "outputs": []
    },
    {
      "cell_type": "code",
      "metadata": {
        "id": "D0B5i7uhGoxd",
        "cellView": "form"
      },
      "source": [
        "#@title Solution\n",
        "sns.catplot(x=\"disease\", hue=\"exercise_pain\", kind = \"count\",  data=patient_data)\n",
        "display(patient_data[['exercise_pain']])"
      ],
      "execution_count": null,
      "outputs": []
    },
    {
      "cell_type": "markdown",
      "metadata": {
        "id": "oeuvz9RlJJlA"
      },
      "source": [
        "# Making Predictions with Rules\n",
        "\n",
        "Now that we're familiar with our features, let's use them to predict `disease`!\n",
        "\n",
        "**Based on the graphs, which features do you think would be most helpful for predicting whether someone has heart disease?**\n",
        "\n",
        "First, let's try making a tiny decision tree ourselves. Then we'll use machine learning!\n",
        "\n",
        "Let's use just **one** feature for now: `heart_rate`. \n",
        "\n",
        "If you had to guess whether someone had heart disease based on their heart rate, what **cutoff value** would you use? (Check out your graphs!)"
      ]
    },
    {
      "cell_type": "code",
      "metadata": {
        "id": "EWDosTLoMpJW"
      },
      "source": [
        "def predict_disease(heart_rate):\n",
        "  cutoff = __ #YOUR CODE HERE: choose a number!\n",
        "  if heart_rate < cutoff: \n",
        "    return 1 #predict heart disease\n",
        "  else:\n",
        "    return 0 #predict no heart disease"
      ],
      "execution_count": null,
      "outputs": []
    },
    {
      "cell_type": "code",
      "metadata": {
        "id": "HYPRcgH7QR37",
        "cellView": "form"
      },
      "source": [
        "#@title Solution\n",
        "def predict_disease(heart_rate):\n",
        "  cutoff = 141 #YOUR CODE HERE: choose a number!\n",
        "  if heart_rate < cutoff: \n",
        "    return 1 #predict heart disease\n",
        "  else:\n",
        "    return 0 #predict no heart disease"
      ],
      "execution_count": null,
      "outputs": []
    },
    {
      "cell_type": "markdown",
      "metadata": {
        "id": "XWEUcWt9QNud"
      },
      "source": [
        "Let's check out our predictions!\n",
        "\n",
        "**Discuss:** Can you explain how each prediction was made? How often are your predictions correct?"
      ]
    },
    {
      "cell_type": "code",
      "metadata": {
        "id": "o2WKNdNLNPpk"
      },
      "source": [
        "predictions = patient_data['heart_rate'].apply(predict_disease)\n",
        "show_predictions(predictions)"
      ],
      "execution_count": null,
      "outputs": []
    },
    {
      "cell_type": "markdown",
      "metadata": {
        "id": "RCTlTUyNW097"
      },
      "source": [
        "Experiment with **changing your cutoff** to see what accuracy you can achieve!\n",
        "\n",
        "**Optional:** Also experiment with using a different feature. What if you use `cholesterol` or `sex` instead of `heart_rate`? Is a different feature more useful?"
      ]
    },
    {
      "cell_type": "markdown",
      "metadata": {
        "id": "Pn2H3zKDXByp"
      },
      "source": [
        "# Making Predictions with Machine Learning\n",
        "\n",
        "It takes a while to guess a rule by hand - and that's just with one feature!\n",
        "\n",
        "Instead, let's use **machine learning** to make predictions automatically. Here are the steps:"
      ]
    },
    {
      "cell_type": "markdown",
      "metadata": {
        "id": "GRTNfdbpX4gx"
      },
      "source": [
        "### Step 1: Prepare our Data\n",
        "\n",
        "We need to select out `input_data` and `output_data`. Please enter the name of each column! (We're still using one input feature for now.)"
      ]
    },
    {
      "cell_type": "code",
      "metadata": {
        "id": "ycvNL3YYYAuu"
      },
      "source": [
        "input_data = patient_data[[]] #FILL ME IN \n",
        "output_data = patient_data[[]] #FILL ME IN\n",
        "\n",
        "display(input_data)\n",
        "display(output_data)"
      ],
      "execution_count": null,
      "outputs": []
    },
    {
      "cell_type": "code",
      "metadata": {
        "id": "FRdzZG-zYQEt",
        "cellView": "form"
      },
      "source": [
        "#@title Solution\n",
        "input_data = patient_data[['heart_rate']] #FILL ME IN \n",
        "output_data = patient_data[['disease']] #FILL ME IN\n",
        "display (input_data)\n",
        "display (output_data)"
      ],
      "execution_count": null,
      "outputs": []
    },
    {
      "cell_type": "markdown",
      "metadata": {
        "id": "YW5OdgWOYfMg"
      },
      "source": [
        "### Step 2: Set up our Model\n",
        "\n",
        "Now, we need to set up the model (machine learning tool) we'll use. In this case, that's a decision tree!"
      ]
    },
    {
      "cell_type": "code",
      "metadata": {
        "id": "l1nSU0Tlr7Nf"
      },
      "source": [
        "tree_model = DecisionTreeClassifier(max_depth=1)"
      ],
      "execution_count": null,
      "outputs": []
    },
    {
      "cell_type": "markdown",
      "metadata": {
        "id": "kQ-1SPBQZXh1"
      },
      "source": [
        "### Step 3: Train our Model\n",
        "\n",
        "Now, we'll need to feed our `input_data` and `output_data` data into the model and `train` it! \n",
        "\n",
        "Please use `tree_model.fit()` and fill in the `input_data` and `output_data` so our model can learn."
      ]
    },
    {
      "cell_type": "code",
      "metadata": {
        "id": "bKEcNpnfxjJG"
      },
      "source": [
        "#YOUR CODE HERE (1 line)"
      ],
      "execution_count": null,
      "outputs": []
    },
    {
      "cell_type": "code",
      "metadata": {
        "id": "YCrngMNNZi4r",
        "cellView": "form"
      },
      "source": [
        "#@title Solution\n",
        "tree_model.fit(input_data, output_data)"
      ],
      "execution_count": null,
      "outputs": []
    },
    {
      "cell_type": "markdown",
      "metadata": {
        "id": "YbyPmT4FaBjj"
      },
      "source": [
        "### Step 4: Make Predictions\n",
        "\n",
        "Now, let's see how good our model's predictions are! \n",
        "\n",
        "We'll use `tree_model.predict` and fill in the `input`. **Discuss:** why don't we need to plug in the output?"
      ]
    },
    {
      "cell_type": "code",
      "metadata": {
        "id": "mIJtFiI-b9DR"
      },
      "source": [
        "predictions = tree_model.predict(input_data)\n",
        "\n",
        "show_predictions(predictions)"
      ],
      "execution_count": null,
      "outputs": []
    },
    {
      "cell_type": "markdown",
      "metadata": {
        "id": "SMU5YbzfN6RE"
      },
      "source": [
        "### Step 5: Visualize our Tree\n",
        "\n",
        "Finally, let's visualize our decision tree to see **how** it makes decisions.\n",
        "\n",
        "Try **explaining this tree**! Discuss:\n",
        "*   What \"cutoff\" value did the computer choose? Can you get the same results on your own?\n",
        "*   What does \"samples\" mean? How does the tree split up the data into \"classes\"?\n",
        "*   What does \"value\" mean? (Hint: this shows us how many people are sick or healthy in each class.)\n"
      ]
    },
    {
      "cell_type": "code",
      "metadata": {
        "id": "_Y3Z5BpJqZ3e"
      },
      "source": [
        "visualize_tree(tree_model, input_data)"
      ],
      "execution_count": null,
      "outputs": []
    },
    {
      "cell_type": "markdown",
      "metadata": {
        "id": "xCA0a5_rPNx5"
      },
      "source": [
        "Congratulations - you've trained and evaluated your first machine learning model for diagnosing heart disease! \n",
        "\n",
        "**Would you trust a model like this** to make diagnoses? Could doctors use it instead of X-rays?\n",
        "\n",
        "\n",
        "Now, let's make it better.\n",
        "\n",
        "**Make sure to save this notebook for next time!**"
      ]
    },
    {
      "cell_type": "markdown",
      "metadata": {
        "id": "n8ooKFGkPUcz"
      },
      "source": [
        "# Improving our Model\n",
        " \n",
        "Let's try a few approaches!"
      ]
    },
    {
      "cell_type": "markdown",
      "metadata": {
        "id": "9vj-GfotVE0R"
      },
      "source": [
        "## Using a Different Feature\n",
        "\n",
        "So far, we've been predicting disease based just on `heart_rate`. But that might not be the best way of predicting!\n",
        "\n",
        "Below, please **copy over and run the code for steps 1-5 again, with one difference: use a different feature than heart_rate.**"
      ]
    },
    {
      "cell_type": "code",
      "metadata": {
        "id": "ARQajU_KVRPe"
      },
      "source": [
        "#FILL IN YOUR CODE BELOW!\n",
        "\n",
        "#STEP 1: Prepare your data\n",
        "#Use a different input feature!\n",
        "\n",
        "#STEP 2: Prepare your model\n",
        "\n",
        "#STEP 3: Train your model\n",
        "\n",
        "#STEP 4: Make predictions\n",
        "\n",
        "#STEP 5: Visualize your tree"
      ],
      "execution_count": null,
      "outputs": []
    },
    {
      "cell_type": "code",
      "metadata": {
        "cellView": "form",
        "id": "N9TcfwVlVV3D"
      },
      "source": [
        "#@title Solution\n",
        "#@title Solution\n",
        "\n",
        "\n",
        "#STEP 1: Prepare your data\n",
        "input_data = patient_data[['sex']] #FILL ME IN \n",
        "output_data = patient_data[['disease']] #FILL ME IN\n",
        "\n",
        "#STEP 2: Prepare your model\n",
        "#Use a bigger max_depth this time!\n",
        "tree_model = DecisionTreeClassifier(max_depth=1)\n",
        "\n",
        "#STEP 3: Train your model\n",
        "tree_model.fit(input_data, output_data)\n",
        "\n",
        "#STEP 4: Make predictions\n",
        "predictions = tree_model.predict(input_data)\n",
        "show_predictions(predictions)\n",
        "\n",
        "#STEP 5: Visualize your tree\n",
        "visualize_tree(tree_model, input_data)"
      ],
      "execution_count": null,
      "outputs": []
    },
    {
      "cell_type": "markdown",
      "metadata": {
        "id": "Iarv3eOhVna3"
      },
      "source": [
        "Experiment with a few features! Which single feature seems most useful? Does that surprise you?\n",
        "\n",
        "Can you interpret the tree for each feature?"
      ]
    },
    {
      "cell_type": "markdown",
      "metadata": {
        "id": "aNsftFYyPdqa"
      },
      "source": [
        "## Changing Max_Depth\n",
        "\n",
        "Before, we used a DecisionTreeClassifier with `max_depth = 1`.\n",
        "\n",
        "**Can you guess what max_depth means? Let's experiment with changing it!**\n",
        "\n",
        "Below, please **copy over and run the code for steps 1-5 again, with one difference: try increasing `max_depth` a little bit.**\n",
        "\n",
        "You can use any feature!"
      ]
    },
    {
      "cell_type": "code",
      "metadata": {
        "id": "UT6llWBliXSv"
      },
      "source": [
        "#FILL IN YOUR CODE BELOW!\n",
        "\n",
        "#STEP 1: Prepare your data\n",
        "\n",
        "#STEP 2: Prepare your model\n",
        "#Use a bigger max_depth this time!\n",
        "\n",
        "#STEP 3: Train your model\n",
        "\n",
        "#STEP 4: Make predictions\n",
        "\n",
        "#STEP 5: Visualize your tree"
      ],
      "execution_count": null,
      "outputs": []
    },
    {
      "cell_type": "code",
      "metadata": {
        "id": "jqucerhSQsJ2",
        "cellView": "form"
      },
      "source": [
        "#@title Solution\n",
        "\n",
        "\n",
        "#STEP 1: Prepare your data\n",
        "input_data = patient_data[['heart_rate']] #FILL ME IN \n",
        "output_data = patient_data[['disease']] #FILL ME IN\n",
        "\n",
        "\n",
        "#STEP 2: Prepare your model\n",
        "#Use a bigger max_depth this time!\n",
        "tree_model = DecisionTreeClassifier(max_depth=4)\n",
        "\n",
        "#STEP 3: Train your model\n",
        "tree_model.fit(input_data, output_data)\n",
        "\n",
        "#STEP 4: Make predictions\n",
        "predictions = tree_model.predict(input_data)\n",
        "show_predictions(predictions)\n",
        "\n",
        "#STEP 5: Visualize your tree\n",
        "visualize_tree(tree_model, input_data)"
      ],
      "execution_count": null,
      "outputs": []
    },
    {
      "cell_type": "markdown",
      "metadata": {
        "id": "gwk57iqpQQP6"
      },
      "source": [
        "Based on the diagram, **what does max_depth represent?** How do we interpret this new diagram?\n",
        "\n",
        "Does changing it improve your model?"
      ]
    },
    {
      "cell_type": "markdown",
      "metadata": {
        "id": "mVckYY0-Vsrn"
      },
      "source": [
        "##Optional: Using Multiple Features\n",
        "\n",
        "We've tried using different features! But we're still using only one feature at a time, which means we're ignoring most of our data. \n",
        "\n",
        "Let's let the computer **learn from multiple features**. To do this, just use multiple features for the input_data, for example:\n",
        "\n",
        "`input_data = patient_data[['heart_rate','cholesterol','sex']]`\n",
        "\n",
        "You'll probably want to use a bigger `max_depth`!"
      ]
    },
    {
      "cell_type": "code",
      "metadata": {
        "id": "f9v7UXlnt5Tv"
      },
      "source": [
        "#YOUR CODE HERE to set up, train, and test your model with multiple features!"
      ],
      "execution_count": null,
      "outputs": []
    },
    {
      "cell_type": "code",
      "metadata": {
        "cellView": "form",
        "id": "AefGI8Tbt_i3"
      },
      "source": [
        "#@title Solution\n",
        "\n",
        "\n",
        "#STEP 1: Prepare your data\n",
        "input_data = patient_data[['age', 'blood_pressure', 'cholesterol', 'heart_rate', 'sex',\n",
        "       'high_blood_sugar', 'chest_pain', 'exercise_pain']] #FILL ME IN \n",
        "output_data = patient_data[['disease']] #FILL ME IN\n",
        "\n",
        "\n",
        "#STEP 2: Prepare your model\n",
        "#Use a bigger max_depth this time!\n",
        "tree_model = DecisionTreeClassifier(max_depth=3)\n",
        "\n",
        "#STEP 3: Train your model\n",
        "tree_model.fit(input_data, output_data)\n",
        "\n",
        "#STEP 4: Make predictions\n",
        "predictions = tree_model.predict(input_data)\n",
        "show_predictions(predictions)\n",
        "\n",
        "#STEP 5: Visualize your tree\n",
        "visualize_tree(tree_model, input_data)"
      ],
      "execution_count": null,
      "outputs": []
    },
    {
      "cell_type": "markdown",
      "metadata": {
        "id": "iuvXlfdawcvJ"
      },
      "source": [
        "**How is your model** making decisions now?\n",
        "\n",
        "Keep playing around with your model to improve it! You can explore some other options [here](https://scikit-learn.org/stable/modules/generated/sklearn.tree.DecisionTreeClassifier.html).\n",
        "\n",
        "And consider - can you get it good enough that you'd **feel comfortable recommending doctors use it**?\n",
        "\n",
        "One key note: we didn't separate our data in this intro notebook, but to see how your model works in the real world, it's important to use separate [training data and testing data](https://developers.google.com/machine-learning/crash-course/training-and-test-sets/video-lecture). That way, you'll be able to detect [overfitting](https://machinelearningmastery.com/overfitting-machine-learning-models/)!"
      ]
    }
  ]
}