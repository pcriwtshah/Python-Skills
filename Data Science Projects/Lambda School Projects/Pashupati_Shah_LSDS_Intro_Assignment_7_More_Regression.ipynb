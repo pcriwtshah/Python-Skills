{
  "nbformat": 4,
  "nbformat_minor": 0,
  "metadata": {
    "colab": {
      "name": "Pashupati Shah LSDS Intro Assignment 7 - More Regression.ipynb",
      "provenance": []
    },
    "kernelspec": {
      "display_name": "Python 3",
      "language": "python",
      "name": "python3"
    }
  },
  "cells": [
    {
      "metadata": {
        "id": "T9H4rAOJmyXO"
      },
      "cell_type": "markdown",
      "source": [
        "# Lambda School, Intro to Data Science, Day 7 — More Regression!\n",
        "\n",
        "## Assignment\n",
        "\n",
        "### 1. Experiment with Nearest Neighbor parameter\n",
        "\n",
        "Using the same 10 training data points from the lesson, train a `KNeighborsRegressor` model with `n_neighbors=1`.\n",
        "\n",
        "Use both `carat` and `cut` features.\n",
        "\n",
        "Calculate the mean absolute error on the training data and on the test data."
      ]
    },
    {
      "metadata": {
        "id": "CKsxHHzmmyXP"
      },
      "cell_type": "code",
      "source": [
        "%matplotlib inline\n",
        "import matplotlib.pyplot as plt\n",
        "import pandas as pd\n",
        "from sklearn.neighbors import KNeighborsRegressor\n",
        "from sklearn.metrics import mean_absolute_error\n",
        "\n",
        "columns = ['carat', 'cut', 'price']\n",
        "\n",
        "train = pd.DataFrame(columns=columns, \n",
        "        data=[[0.3, 'Ideal', 422],\n",
        "        [0.31, 'Ideal', 489],\n",
        "        [0.42, 'Premium', 737],\n",
        "        [0.5, 'Ideal', 1415],\n",
        "        [0.51, 'Premium', 1177],\n",
        "        [0.7, 'Fair', 1865],\n",
        "        [0.73, 'Fair', 2351],\n",
        "        [1.01, 'Good', 3768],\n",
        "        [1.18, 'Very Good', 3965],\n",
        "        [1.18, 'Ideal', 4838]])\n",
        "\n",
        "test  = pd.DataFrame(columns=columns, \n",
        "        data=[[0.3, 'Ideal', 432],\n",
        "        [0.34, 'Ideal', 687],\n",
        "        [0.37, 'Premium', 1124],\n",
        "        [0.4, 'Good', 720],\n",
        "        [0.51, 'Ideal', 1397],\n",
        "        [0.51, 'Very Good', 1284],\n",
        "        [0.59, 'Ideal', 1437],\n",
        "        [0.7, 'Ideal', 3419],\n",
        "        [0.9, 'Premium', 3484],\n",
        "        [0.9, 'Fair', 2964]])\n",
        "\n",
        "cut_ranks = {'Fair': 1, 'Good': 2, 'Very Good': 3, 'Premium': 4, 'Ideal': 5}\n",
        "train.cut = train.cut.map(cut_ranks)\n",
        "test.cut = test.cut.map(cut_ranks)"
      ],
      "execution_count": null,
      "outputs": []
    },
    {
      "metadata": {
        "id": "WQPkTcCz-UQp",
        "colab": {
          "base_uri": "https://localhost:8080/",
          "height": 363
        },
        "outputId": "41133060-e92c-4b2b-ab05-190139e02e73"
      },
      "cell_type": "code",
      "source": [
        "train"
      ],
      "execution_count": null,
      "outputs": [
        {
          "output_type": "execute_result",
          "data": {
            "text/html": [
              "<div>\n",
              "<style scoped>\n",
              "    .dataframe tbody tr th:only-of-type {\n",
              "        vertical-align: middle;\n",
              "    }\n",
              "\n",
              "    .dataframe tbody tr th {\n",
              "        vertical-align: top;\n",
              "    }\n",
              "\n",
              "    .dataframe thead th {\n",
              "        text-align: right;\n",
              "    }\n",
              "</style>\n",
              "<table border=\"1\" class=\"dataframe\">\n",
              "  <thead>\n",
              "    <tr style=\"text-align: right;\">\n",
              "      <th></th>\n",
              "      <th>carat</th>\n",
              "      <th>cut</th>\n",
              "      <th>price</th>\n",
              "    </tr>\n",
              "  </thead>\n",
              "  <tbody>\n",
              "    <tr>\n",
              "      <th>0</th>\n",
              "      <td>0.30</td>\n",
              "      <td>5</td>\n",
              "      <td>422</td>\n",
              "    </tr>\n",
              "    <tr>\n",
              "      <th>1</th>\n",
              "      <td>0.31</td>\n",
              "      <td>5</td>\n",
              "      <td>489</td>\n",
              "    </tr>\n",
              "    <tr>\n",
              "      <th>2</th>\n",
              "      <td>0.42</td>\n",
              "      <td>4</td>\n",
              "      <td>737</td>\n",
              "    </tr>\n",
              "    <tr>\n",
              "      <th>3</th>\n",
              "      <td>0.50</td>\n",
              "      <td>5</td>\n",
              "      <td>1415</td>\n",
              "    </tr>\n",
              "    <tr>\n",
              "      <th>4</th>\n",
              "      <td>0.51</td>\n",
              "      <td>4</td>\n",
              "      <td>1177</td>\n",
              "    </tr>\n",
              "    <tr>\n",
              "      <th>5</th>\n",
              "      <td>0.70</td>\n",
              "      <td>1</td>\n",
              "      <td>1865</td>\n",
              "    </tr>\n",
              "    <tr>\n",
              "      <th>6</th>\n",
              "      <td>0.73</td>\n",
              "      <td>1</td>\n",
              "      <td>2351</td>\n",
              "    </tr>\n",
              "    <tr>\n",
              "      <th>7</th>\n",
              "      <td>1.01</td>\n",
              "      <td>2</td>\n",
              "      <td>3768</td>\n",
              "    </tr>\n",
              "    <tr>\n",
              "      <th>8</th>\n",
              "      <td>1.18</td>\n",
              "      <td>3</td>\n",
              "      <td>3965</td>\n",
              "    </tr>\n",
              "    <tr>\n",
              "      <th>9</th>\n",
              "      <td>1.18</td>\n",
              "      <td>5</td>\n",
              "      <td>4838</td>\n",
              "    </tr>\n",
              "  </tbody>\n",
              "</table>\n",
              "</div>"
            ],
            "text/plain": [
              "   carat  cut  price\n",
              "0   0.30    5    422\n",
              "1   0.31    5    489\n",
              "2   0.42    4    737\n",
              "3   0.50    5   1415\n",
              "4   0.51    4   1177\n",
              "5   0.70    1   1865\n",
              "6   0.73    1   2351\n",
              "7   1.01    2   3768\n",
              "8   1.18    3   3965\n",
              "9   1.18    5   4838"
            ]
          },
          "metadata": {
            "tags": []
          },
          "execution_count": 2
        }
      ]
    },
    {
      "metadata": {
        "id": "0VoRmeGd-Ye-",
        "colab": {
          "base_uri": "https://localhost:8080/",
          "height": 363
        },
        "outputId": "86204d2b-d288-4752-931e-9ae157363b1f"
      },
      "cell_type": "code",
      "source": [
        "test"
      ],
      "execution_count": null,
      "outputs": [
        {
          "output_type": "execute_result",
          "data": {
            "text/html": [
              "<div>\n",
              "<style scoped>\n",
              "    .dataframe tbody tr th:only-of-type {\n",
              "        vertical-align: middle;\n",
              "    }\n",
              "\n",
              "    .dataframe tbody tr th {\n",
              "        vertical-align: top;\n",
              "    }\n",
              "\n",
              "    .dataframe thead th {\n",
              "        text-align: right;\n",
              "    }\n",
              "</style>\n",
              "<table border=\"1\" class=\"dataframe\">\n",
              "  <thead>\n",
              "    <tr style=\"text-align: right;\">\n",
              "      <th></th>\n",
              "      <th>carat</th>\n",
              "      <th>cut</th>\n",
              "      <th>price</th>\n",
              "    </tr>\n",
              "  </thead>\n",
              "  <tbody>\n",
              "    <tr>\n",
              "      <th>0</th>\n",
              "      <td>0.30</td>\n",
              "      <td>5</td>\n",
              "      <td>432</td>\n",
              "    </tr>\n",
              "    <tr>\n",
              "      <th>1</th>\n",
              "      <td>0.34</td>\n",
              "      <td>5</td>\n",
              "      <td>687</td>\n",
              "    </tr>\n",
              "    <tr>\n",
              "      <th>2</th>\n",
              "      <td>0.37</td>\n",
              "      <td>4</td>\n",
              "      <td>1124</td>\n",
              "    </tr>\n",
              "    <tr>\n",
              "      <th>3</th>\n",
              "      <td>0.40</td>\n",
              "      <td>2</td>\n",
              "      <td>720</td>\n",
              "    </tr>\n",
              "    <tr>\n",
              "      <th>4</th>\n",
              "      <td>0.51</td>\n",
              "      <td>5</td>\n",
              "      <td>1397</td>\n",
              "    </tr>\n",
              "    <tr>\n",
              "      <th>5</th>\n",
              "      <td>0.51</td>\n",
              "      <td>3</td>\n",
              "      <td>1284</td>\n",
              "    </tr>\n",
              "    <tr>\n",
              "      <th>6</th>\n",
              "      <td>0.59</td>\n",
              "      <td>5</td>\n",
              "      <td>1437</td>\n",
              "    </tr>\n",
              "    <tr>\n",
              "      <th>7</th>\n",
              "      <td>0.70</td>\n",
              "      <td>5</td>\n",
              "      <td>3419</td>\n",
              "    </tr>\n",
              "    <tr>\n",
              "      <th>8</th>\n",
              "      <td>0.90</td>\n",
              "      <td>4</td>\n",
              "      <td>3484</td>\n",
              "    </tr>\n",
              "    <tr>\n",
              "      <th>9</th>\n",
              "      <td>0.90</td>\n",
              "      <td>1</td>\n",
              "      <td>2964</td>\n",
              "    </tr>\n",
              "  </tbody>\n",
              "</table>\n",
              "</div>"
            ],
            "text/plain": [
              "   carat  cut  price\n",
              "0   0.30    5    432\n",
              "1   0.34    5    687\n",
              "2   0.37    4   1124\n",
              "3   0.40    2    720\n",
              "4   0.51    5   1397\n",
              "5   0.51    3   1284\n",
              "6   0.59    5   1437\n",
              "7   0.70    5   3419\n",
              "8   0.90    4   3484\n",
              "9   0.90    1   2964"
            ]
          },
          "metadata": {
            "tags": []
          },
          "execution_count": 3
        }
      ]
    },
    {
      "metadata": {
        "id": "4MrRasT_myXT",
        "outputId": "6d330bb2-5d26-4a20-938f-34d16d130919",
        "colab": {
          "base_uri": "https://localhost:8080/",
          "height": 69
        }
      },
      "cell_type": "code",
      "source": [
        "features = ['carat','cut']\n",
        "target = 'price'\n",
        "\n",
        "model = KNeighborsRegressor(n_neighbors=1)\n",
        "\n",
        "model.fit(train[features], train[target])"
      ],
      "execution_count": null,
      "outputs": [
        {
          "output_type": "execute_result",
          "data": {
            "text/plain": [
              "KNeighborsRegressor(algorithm='auto', leaf_size=30, metric='minkowski',\n",
              "          metric_params=None, n_jobs=None, n_neighbors=1, p=2,\n",
              "          weights='uniform')"
            ]
          },
          "metadata": {
            "tags": []
          },
          "execution_count": 4
        }
      ]
    },
    {
      "metadata": {
        "id": "BHG2U3FNhfVL",
        "outputId": "48be74c4-845a-4fd9-ab01-710efd10ab7d",
        "colab": {
          "base_uri": "https://localhost:8080/",
          "height": 52
        }
      },
      "cell_type": "code",
      "source": [
        "def error():\n",
        "    # Calculate mean absolute error on the training data\n",
        "    y_true = train[target]\n",
        "    y_pred = model.predict(train[features])\n",
        "    train_error = mean_absolute_error(y_true, y_pred)\n",
        "\n",
        "    # Calculate mean absolute error on the test data\n",
        "    y_true = test[target]\n",
        "    y_pred = model.predict(test[features])\n",
        "    test_error = mean_absolute_error(y_true, y_pred)\n",
        "\n",
        "    # Display the errors\n",
        "    print('Train Error: $', round(train_error))\n",
        "    print('Test Error: $', round(test_error))\n",
        "    \n",
        "error()"
      ],
      "execution_count": null,
      "outputs": [
        {
          "output_type": "stream",
          "text": [
            "Train Error: $ 0.0\n",
            "Test Error: $ 1129.0\n"
          ],
          "name": "stdout"
        }
      ]
    },
    {
      "metadata": {
        "id": "VfuAK4rClq6Q"
      },
      "cell_type": "markdown",
      "source": [
        "From Here this is my practice. ---------------------------------------------------------\n"
      ]
    },
    {
      "metadata": {
        "id": "ayBUYUQNb5YY",
        "outputId": "b4cd8fa5-3326-4f5e-c2e1-39894dea6bfa",
        "colab": {
          "base_uri": "https://localhost:8080/",
          "height": 318
        }
      },
      "cell_type": "code",
      "source": [
        "ax = train.plot.scatter(x='carat', y='price', s=50)\n",
        "test.plot.scatter(x='carat', y='price', s=50, color='orange', ax=ax)\n",
        "plt.legend(['Train data', 'Test data']);"
      ],
      "execution_count": null,
      "outputs": [
        {
          "output_type": "stream",
          "text": [
            "'c' argument looks like a single numeric RGB or RGBA sequence, which should be avoided as value-mapping will have precedence in case its length matches with 'x' & 'y'.  Please use a 2-D array with a single row if you really want to specify the same RGB or RGBA value for all points.\n"
          ],
          "name": "stderr"
        },
        {
          "output_type": "display_data",
          "data": {
            "image/png": "[encoded data removed]",
            "text/plain": [
              "<Figure size 432x288 with 1 Axes>"
            ]
          },
          "metadata": {
            "tags": []
          }
        }
      ]
    },
    {
      "metadata": {
        "id": "jYKdDYE0eeh7"
      },
      "cell_type": "code",
      "source": [
        "# [[0.0], [0.01], [0.02], ... [1.28], [1.29]]\n",
        "carats = [[c/100] for c in range(130)]\n",
        "predictions = model.predict(carats)"
      ],
      "execution_count": null,
      "outputs": []
    },
    {
      "metadata": {
        "id": "TW_iEktweO2M",
        "outputId": "d5074e59-97a1-45a7-9b9f-3bbb67087380",
        "colab": {
          "base_uri": "https://localhost:8080/",
          "height": 331
        }
      },
      "cell_type": "code",
      "source": [
        "from sklearn.linear_model import LinearRegression\n",
        "model = LinearRegression()\n",
        "\n",
        "model.fit(train[features], train[target])\n",
        "predictions = model.predict(carats)\n",
        "train.plot.scatter(x='carat', y='price', s=50)\n",
        "plt.plot(carats, predictions)\n",
        "plt.title('Linear Regression');"
      ],
      "execution_count": null,
      "outputs": [
        {
          "output_type": "stream",
          "text": [
            "'c' argument looks like a single numeric RGB or RGBA sequence, which should be avoided as value-mapping will have precedence in case its length matches with 'x' & 'y'.  Please use a 2-D array with a single row if you really want to specify the same RGB or RGBA value for all points.\n"
          ],
          "name": "stderr"
        },
        {
          "output_type": "display_data",
          "data": {
            "image/png": "[encoded data removed]",
            "text/plain": [
              "<Figure size 432x288 with 1 Axes>"
            ]
          },
          "metadata": {
            "tags": []
          }
        }
      ]
    },
    {
      "metadata": {
        "id": "9qu6n1IhcBso",
        "outputId": "a656384d-3844-45df-c393-c8986e1fd755",
        "colab": {
          "base_uri": "https://localhost:8080/",
          "height": 383
        }
      },
      "cell_type": "code",
      "source": [
        " # Plot training data (blue dots)\n",
        "    ax = train.plot.scatter(x='carat', y='price', s=50)\n",
        "    \n",
        "    # Plot testing data (orange dots)\n",
        "    test.plot.scatter(x='carat', y='price', s=50, color='orange', ax=ax)\n",
        "    \n",
        "    # Train model\n",
        "    model.fit(train[features], train[target])\n",
        "    \n",
        "    # Plot predictions (blue line)\n",
        "    plt.plot(carats, model.predict(carats))\n",
        "    plt.title('Linear Regression')\n",
        "    plt.ylim((-1000, 5000))\n",
        "    plt.show()\n",
        "    \n",
        "    # Calculate mean absolute error on the training data\n",
        "    # (average distance between line and blue dots)\n",
        "    y_true = train[target]\n",
        "    y_pred = model.predict(train[features])\n",
        "    train_error = mean_absolute_error(y_true, y_pred)\n",
        "    \n",
        "    # Calculate mean absolute error on the test data\n",
        "    # (average distance between line and orange dots)\n",
        "    y_true = test[target]\n",
        "    y_pred = model.predict(test[features])\n",
        "    test_error = mean_absolute_error(y_true, y_pred)\n",
        "    \n",
        "    # Display the errors\n",
        "    print('Train Error: $', round(train_error))\n",
        "    print('Test Error: $', round(test_error), '\\n')"
      ],
      "execution_count": null,
      "outputs": [
        {
          "output_type": "stream",
          "text": [
            "'c' argument looks like a single numeric RGB or RGBA sequence, which should be avoided as value-mapping will have precedence in case its length matches with 'x' & 'y'.  Please use a 2-D array with a single row if you really want to specify the same RGB or RGBA value for all points.\n"
          ],
          "name": "stderr"
        },
        {
          "output_type": "display_data",
          "data": {
            "image/png": "[encoded data removed]",
            "text/plain": [
              "<Figure size 432x288 with 1 Axes>"
            ]
          },
          "metadata": {
            "tags": []
          }
        },
        {
          "output_type": "stream",
          "text": [
            "Train Error: $ 202.0\n",
            "Test Error: $ 293.0 \n",
            "\n"
          ],
          "name": "stdout"
        }
      ]
    },
    {
      "metadata": {
        "id": "kdtIQ5e9l3FA"
      },
      "cell_type": "markdown",
      "source": [
        "Practice ends here -----------------------------------------------------------------------"
      ]
    },
    {
      "metadata": {
        "id": "NQQveVK9myXV"
      },
      "cell_type": "markdown",
      "source": [
        "How does the train error and test error compare to the previous `KNeighborsRegressor` model from the lesson? (The previous model used `n_neighbors=2` and only the `carat` feature.)\n",
        "\n",
        "Is this new model overfitting or underfitting? Why do you think this is happening here? \n",
        "\n"
      ]
    },
    {
      "metadata": {
        "id": "wx1tHmB7h-1s"
      },
      "cell_type": "markdown",
      "source": [
        "Train error is 'Zero' same as one obtained in lesson where as Test error is very high compared to one obtained in lesson. This means this model overfits because we are using only one neighbor instead of two. This can be corrected by using more than one neighbors."
      ]
    },
    {
      "metadata": {
        "id": "cTLyYPWUl8mQ"
      },
      "cell_type": "markdown",
      "source": [
        "From here I am testing with n_neighbors = 3, 4-------------------------------------------------------------"
      ]
    },
    {
      "metadata": {
        "id": "DzbNzpssBOWk",
        "outputId": "832ff22f-c11b-4ce3-bfb7-1fc0dec613c0",
        "colab": {
          "base_uri": "https://localhost:8080/",
          "height": 69
        }
      },
      "cell_type": "code",
      "source": [
        "features = ['carat','cut']\n",
        "target = 'price'\n",
        "\n",
        "model = KNeighborsRegressor(n_neighbors=3)\n",
        "\n",
        "model.fit(train[features], train[target])"
      ],
      "execution_count": null,
      "outputs": [
        {
          "output_type": "execute_result",
          "data": {
            "text/plain": [
              "KNeighborsRegressor(algorithm='auto', leaf_size=30, metric='minkowski',\n",
              "          metric_params=None, n_jobs=None, n_neighbors=3, p=2,\n",
              "          weights='uniform')"
            ]
          },
          "metadata": {
            "tags": []
          },
          "execution_count": 6
        }
      ]
    },
    {
      "metadata": {
        "id": "1h0vfhjlmV-F",
        "outputId": "48b19645-2b7d-48ac-c851-6ab8e33f6463",
        "colab": {
          "base_uri": "https://localhost:8080/",
          "height": 52
        }
      },
      "cell_type": "code",
      "source": [
        "def error():\n",
        "    # Calculate mean absolute error on the training data\n",
        "    y_true = train[target]\n",
        "    y_pred = model.predict(train[features])\n",
        "    train_error = mean_absolute_error(y_true, y_pred)\n",
        "\n",
        "    # Calculate mean absolute error on the test data\n",
        "    y_true = test[target]\n",
        "    y_pred = model.predict(test[features])\n",
        "    test_error = mean_absolute_error(y_true, y_pred)\n",
        "\n",
        "    # Display the errors\n",
        "    print('Train Error: $', round(train_error))\n",
        "    print('Test Error: $', round(test_error))\n",
        "    \n",
        "error()"
      ],
      "execution_count": null,
      "outputs": [
        {
          "output_type": "stream",
          "text": [
            "Train Error: $ 682.0\n",
            "Test Error: $ 913.0\n"
          ],
          "name": "stdout"
        }
      ]
    },
    {
      "metadata": {
        "id": "44qKCCMCmiwe"
      },
      "cell_type": "markdown",
      "source": [
        "I believe ten data sets are not sufficient to justify this model because with n_neighbors = 1, 2, we get train error as zero but with 3, 4 , it increases rapidly. And test error decreases. If we have more data, we can fit this model by use of appropriate n_neighbors = 3, or 4 or 5."
      ]
    },
    {
      "metadata": {
        "id": "zQJDW1-QmyXW"
      },
      "cell_type": "markdown",
      "source": [
        "### 2. More data, two features, linear regression\n",
        "\n",
        "Use the following code to load data for diamonds under $5,000, and split the data into train and test sets. The training data has almost 30,000 rows, and the test data has almost 10,000 rows."
      ]
    },
    {
      "metadata": {
        "id": "IDXEn8lvmyXW",
        "outputId": "6214e7f3-46d0-4cfa-a015-37082372b8d6",
        "colab": {
          "base_uri": "https://localhost:8080/",
          "height": 34
        }
      },
      "cell_type": "code",
      "source": [
        "import seaborn as sns\n",
        "from sklearn.linear_model import LinearRegression\n",
        "from sklearn.model_selection import train_test_split\n",
        "\n",
        "df = sns.load_dataset('diamonds')\n",
        "df = df[df.price < 5000]\n",
        "train, test = train_test_split(df.copy(), random_state=0)\n",
        "train.shape, test.shape"
      ],
      "execution_count": null,
      "outputs": [
        {
          "output_type": "execute_result",
          "data": {
            "text/plain": [
              "((29409, 10), (9804, 10))"
            ]
          },
          "metadata": {
            "tags": []
          },
          "execution_count": 8
        }
      ]
    },
    {
      "metadata": {
        "id": "1VZ7PH6nmyXZ"
      },
      "cell_type": "markdown",
      "source": [
        "Then, train a Linear Regression model with the `carat` and `cut` features. Calculate the mean absolute error on the training data and on the test data."
      ]
    },
    {
      "metadata": {
        "id": "RRKyOkUgpsHI"
      },
      "cell_type": "code",
      "source": [
        "cut_ranks = {'Fair': 1, 'Good': 2, 'Very Good': 3, 'Premium': 4, 'Ideal': 5}\n",
        "train.cut = train.cut.map(cut_ranks)\n",
        "test.cut = test.cut.map(cut_ranks)"
      ],
      "execution_count": null,
      "outputs": []
    },
    {
      "metadata": {
        "id": "6XwXGOijATL0",
        "colab": {
          "base_uri": "https://localhost:8080/",
          "height": 52
        },
        "outputId": "2b5653f1-8297-4706-c47b-2bc983450c86"
      },
      "cell_type": "code",
      "source": [
        "features = ['carat','cut']\n",
        "target = 'price'\n",
        "model = LinearRegression()\n",
        "model.fit(train[features], train[target])"
      ],
      "execution_count": null,
      "outputs": [
        {
          "output_type": "execute_result",
          "data": {
            "text/plain": [
              "LinearRegression(copy_X=True, fit_intercept=True, n_jobs=None,\n",
              "         normalize=False)"
            ]
          },
          "metadata": {
            "tags": []
          },
          "execution_count": 10
        }
      ]
    },
    {
      "metadata": {
        "id": "v0uMh9enqAoF",
        "outputId": "2dc04055-8173-461c-cf5f-ec796f29c3f2",
        "colab": {
          "base_uri": "https://localhost:8080/",
          "height": 52
        }
      },
      "cell_type": "code",
      "source": [
        "def error():\n",
        "    # Calculate mean absolute error on the training data\n",
        "    y_true = train[target]\n",
        "    y_pred = model.predict(train[features])\n",
        "    train_error = mean_absolute_error(y_true, y_pred)\n",
        "\n",
        "    # Calculate mean absolute error on the test data\n",
        "    y_true = test[target]\n",
        "    y_pred = model.predict(test[features])\n",
        "    test_error = mean_absolute_error(y_true, y_pred)\n",
        "\n",
        "    # Display the errors\n",
        "    print('Train Error: $', round(train_error))\n",
        "    print('Test Error: $', round(test_error))\n",
        "    \n",
        "error()"
      ],
      "execution_count": null,
      "outputs": [
        {
          "output_type": "stream",
          "text": [
            "Train Error: $ 309.0\n",
            "Test Error: $ 310.0\n"
          ],
          "name": "stdout"
        }
      ]
    },
    {
      "metadata": {
        "id": "OElu3kDpqu7x",
        "outputId": "b2fec9b4-3d51-459e-839d-b6b1fe4251b1",
        "colab": {
          "base_uri": "https://localhost:8080/",
          "height": 34
        }
      },
      "cell_type": "code",
      "source": [
        "model.coef_, model.intercept_"
      ],
      "execution_count": null,
      "outputs": [
        {
          "output_type": "execute_result",
          "data": {
            "text/plain": [
              "(array([4888.56164222,   73.7837049 ]), -1176.1766721414037)"
            ]
          },
          "metadata": {
            "tags": []
          },
          "execution_count": 12
        }
      ]
    },
    {
      "metadata": {
        "id": "b5YXS19MEjsV"
      },
      "cell_type": "markdown",
      "source": [
        "At first, this code was running but now this is showing error. I will fix this later because I spent more than 30 min to fix this. "
      ]
    },
    {
      "metadata": {
        "id": "4jLEcukVmyXb"
      },
      "cell_type": "markdown",
      "source": [
        "Use this model to predict the price of a half carat diamond with \"very good\" cut"
      ]
    },
    {
      "metadata": {
        "id": "m1pDzeLZmyXb",
        "outputId": "b601a7da-6095-4a1b-9207-dfa7932230bc",
        "colab": {
          "base_uri": "https://localhost:8080/",
          "height": 34
        }
      },
      "cell_type": "code",
      "source": [
        "model.predict([[0.5, 3]])"
      ],
      "execution_count": null,
      "outputs": [
        {
          "output_type": "execute_result",
          "data": {
            "text/plain": [
              "array([1489.45526366])"
            ]
          },
          "metadata": {
            "tags": []
          },
          "execution_count": 13
        }
      ]
    },
    {
      "metadata": {
        "id": "eB-7wzRjmyXe"
      },
      "cell_type": "markdown",
      "source": [
        "### 3. More data, more features, any model"
      ]
    },
    {
      "metadata": {
        "id": "NdRd1YkuqsvJ"
      },
      "cell_type": "code",
      "source": [
        ""
      ],
      "execution_count": null,
      "outputs": []
    },
    {
      "metadata": {
        "id": "OCauk9z2myXf"
      },
      "cell_type": "markdown",
      "source": [
        "You choose what features and model type to use! Try to get a better mean absolute error on the test set than your model from the last question."
      ]
    },
    {
      "metadata": {
        "id": "nWVpkz8dmyXf"
      },
      "cell_type": "markdown",
      "source": [
        "Refer to [this documentation](https://ggplot2.tidyverse.org/reference/diamonds.html) for more explanation of the features.\n",
        "\n",
        "Besides `cut`, there are two more ordinal features, which you'd need to encode as numbers if you want to use in your model:"
      ]
    },
    {
      "metadata": {
        "id": "54K95PyEmyXf",
        "outputId": "053c7ad1-77f8-4589-a9fe-5cae5ce21b0a",
        "colab": {
          "base_uri": "https://localhost:8080/",
          "height": 175
        }
      },
      "cell_type": "code",
      "source": [
        "train.describe(include=['object'])"
      ],
      "execution_count": null,
      "outputs": [
        {
          "output_type": "execute_result",
          "data": {
            "text/html": [
              "<div>\n",
              "<style scoped>\n",
              "    .dataframe tbody tr th:only-of-type {\n",
              "        vertical-align: middle;\n",
              "    }\n",
              "\n",
              "    .dataframe tbody tr th {\n",
              "        vertical-align: top;\n",
              "    }\n",
              "\n",
              "    .dataframe thead th {\n",
              "        text-align: right;\n",
              "    }\n",
              "</style>\n",
              "<table border=\"1\" class=\"dataframe\">\n",
              "  <thead>\n",
              "    <tr style=\"text-align: right;\">\n",
              "      <th></th>\n",
              "      <th>color</th>\n",
              "      <th>clarity</th>\n",
              "    </tr>\n",
              "  </thead>\n",
              "  <tbody>\n",
              "    <tr>\n",
              "      <th>count</th>\n",
              "      <td>29409</td>\n",
              "      <td>29409</td>\n",
              "    </tr>\n",
              "    <tr>\n",
              "      <th>unique</th>\n",
              "      <td>7</td>\n",
              "      <td>8</td>\n",
              "    </tr>\n",
              "    <tr>\n",
              "      <th>top</th>\n",
              "      <td>E</td>\n",
              "      <td>SI1</td>\n",
              "    </tr>\n",
              "    <tr>\n",
              "      <th>freq</th>\n",
              "      <td>6090</td>\n",
              "      <td>6948</td>\n",
              "    </tr>\n",
              "  </tbody>\n",
              "</table>\n",
              "</div>"
            ],
            "text/plain": [
              "        color clarity\n",
              "count   29409   29409\n",
              "unique      7       8\n",
              "top         E     SI1\n",
              "freq     6090    6948"
            ]
          },
          "metadata": {
            "tags": []
          },
          "execution_count": 14
        }
      ]
    },
    {
      "metadata": {
        "id": "4VrkgOJ4zGlr",
        "outputId": "c3ea0137-6e8d-412d-c66d-8ec984a8ca23",
        "colab": {
          "base_uri": "https://localhost:8080/",
          "height": 363
        }
      },
      "cell_type": "code",
      "source": [
        "train.head(10)"
      ],
      "execution_count": null,
      "outputs": [
        {
          "output_type": "execute_result",
          "data": {
            "text/html": [
              "<div>\n",
              "<style scoped>\n",
              "    .dataframe tbody tr th:only-of-type {\n",
              "        vertical-align: middle;\n",
              "    }\n",
              "\n",
              "    .dataframe tbody tr th {\n",
              "        vertical-align: top;\n",
              "    }\n",
              "\n",
              "    .dataframe thead th {\n",
              "        text-align: right;\n",
              "    }\n",
              "</style>\n",
              "<table border=\"1\" class=\"dataframe\">\n",
              "  <thead>\n",
              "    <tr style=\"text-align: right;\">\n",
              "      <th></th>\n",
              "      <th>carat</th>\n",
              "      <th>cut</th>\n",
              "      <th>color</th>\n",
              "      <th>clarity</th>\n",
              "      <th>depth</th>\n",
              "      <th>table</th>\n",
              "      <th>price</th>\n",
              "      <th>x</th>\n",
              "      <th>y</th>\n",
              "      <th>z</th>\n",
              "    </tr>\n",
              "  </thead>\n",
              "  <tbody>\n",
              "    <tr>\n",
              "      <th>43601</th>\n",
              "      <td>0.31</td>\n",
              "      <td>3</td>\n",
              "      <td>E</td>\n",
              "      <td>SI1</td>\n",
              "      <td>61.2</td>\n",
              "      <td>58.0</td>\n",
              "      <td>507</td>\n",
              "      <td>4.34</td>\n",
              "      <td>4.38</td>\n",
              "      <td>2.67</td>\n",
              "    </tr>\n",
              "    <tr>\n",
              "      <th>52706</th>\n",
              "      <td>0.74</td>\n",
              "      <td>1</td>\n",
              "      <td>H</td>\n",
              "      <td>VS2</td>\n",
              "      <td>66.1</td>\n",
              "      <td>61.0</td>\n",
              "      <td>2553</td>\n",
              "      <td>5.60</td>\n",
              "      <td>5.57</td>\n",
              "      <td>3.69</td>\n",
              "    </tr>\n",
              "    <tr>\n",
              "      <th>1986</th>\n",
              "      <td>0.81</td>\n",
              "      <td>3</td>\n",
              "      <td>G</td>\n",
              "      <td>SI1</td>\n",
              "      <td>62.3</td>\n",
              "      <td>59.0</td>\n",
              "      <td>3095</td>\n",
              "      <td>5.93</td>\n",
              "      <td>5.98</td>\n",
              "      <td>3.71</td>\n",
              "    </tr>\n",
              "    <tr>\n",
              "      <th>48617</th>\n",
              "      <td>0.70</td>\n",
              "      <td>1</td>\n",
              "      <td>G</td>\n",
              "      <td>SI2</td>\n",
              "      <td>61.5</td>\n",
              "      <td>66.0</td>\n",
              "      <td>1999</td>\n",
              "      <td>5.55</td>\n",
              "      <td>5.60</td>\n",
              "      <td>3.43</td>\n",
              "    </tr>\n",
              "    <tr>\n",
              "      <th>10947</th>\n",
              "      <td>0.87</td>\n",
              "      <td>5</td>\n",
              "      <td>G</td>\n",
              "      <td>VS2</td>\n",
              "      <td>61.8</td>\n",
              "      <td>56.0</td>\n",
              "      <td>4899</td>\n",
              "      <td>6.11</td>\n",
              "      <td>6.13</td>\n",
              "      <td>3.78</td>\n",
              "    </tr>\n",
              "    <tr>\n",
              "      <th>44833</th>\n",
              "      <td>0.51</td>\n",
              "      <td>2</td>\n",
              "      <td>E</td>\n",
              "      <td>SI1</td>\n",
              "      <td>64.3</td>\n",
              "      <td>55.0</td>\n",
              "      <td>1624</td>\n",
              "      <td>5.12</td>\n",
              "      <td>5.05</td>\n",
              "      <td>3.27</td>\n",
              "    </tr>\n",
              "    <tr>\n",
              "      <th>13047</th>\n",
              "      <td>0.38</td>\n",
              "      <td>3</td>\n",
              "      <td>I</td>\n",
              "      <td>SI1</td>\n",
              "      <td>59.7</td>\n",
              "      <td>62.0</td>\n",
              "      <td>601</td>\n",
              "      <td>4.70</td>\n",
              "      <td>4.74</td>\n",
              "      <td>2.82</td>\n",
              "    </tr>\n",
              "    <tr>\n",
              "      <th>2737</th>\n",
              "      <td>0.71</td>\n",
              "      <td>5</td>\n",
              "      <td>E</td>\n",
              "      <td>VS2</td>\n",
              "      <td>62.5</td>\n",
              "      <td>55.0</td>\n",
              "      <td>3247</td>\n",
              "      <td>5.67</td>\n",
              "      <td>5.73</td>\n",
              "      <td>3.56</td>\n",
              "    </tr>\n",
              "    <tr>\n",
              "      <th>2052</th>\n",
              "      <td>0.32</td>\n",
              "      <td>4</td>\n",
              "      <td>G</td>\n",
              "      <td>VS2</td>\n",
              "      <td>62.0</td>\n",
              "      <td>58.0</td>\n",
              "      <td>561</td>\n",
              "      <td>4.33</td>\n",
              "      <td>4.38</td>\n",
              "      <td>2.70</td>\n",
              "    </tr>\n",
              "    <tr>\n",
              "      <th>22365</th>\n",
              "      <td>0.31</td>\n",
              "      <td>5</td>\n",
              "      <td>H</td>\n",
              "      <td>VS2</td>\n",
              "      <td>62.1</td>\n",
              "      <td>55.0</td>\n",
              "      <td>628</td>\n",
              "      <td>4.35</td>\n",
              "      <td>4.32</td>\n",
              "      <td>2.69</td>\n",
              "    </tr>\n",
              "  </tbody>\n",
              "</table>\n",
              "</div>"
            ],
            "text/plain": [
              "       carat  cut color clarity  depth  table  price     x     y     z\n",
              "43601   0.31    3     E     SI1   61.2   58.0    507  4.34  4.38  2.67\n",
              "52706   0.74    1     H     VS2   66.1   61.0   2553  5.60  5.57  3.69\n",
              "1986    0.81    3     G     SI1   62.3   59.0   3095  5.93  5.98  3.71\n",
              "48617   0.70    1     G     SI2   61.5   66.0   1999  5.55  5.60  3.43\n",
              "10947   0.87    5     G     VS2   61.8   56.0   4899  6.11  6.13  3.78\n",
              "44833   0.51    2     E     SI1   64.3   55.0   1624  5.12  5.05  3.27\n",
              "13047   0.38    3     I     SI1   59.7   62.0    601  4.70  4.74  2.82\n",
              "2737    0.71    5     E     VS2   62.5   55.0   3247  5.67  5.73  3.56\n",
              "2052    0.32    4     G     VS2   62.0   58.0    561  4.33  4.38  2.70\n",
              "22365   0.31    5     H     VS2   62.1   55.0    628  4.35  4.32  2.69"
            ]
          },
          "metadata": {
            "tags": []
          },
          "execution_count": 15
        }
      ]
    },
    {
      "metadata": {
        "id": "oII6zjXs6QRf",
        "outputId": "6ba566aa-53fb-4eca-e6de-c12f3da33c17",
        "colab": {
          "base_uri": "https://localhost:8080/",
          "height": 206
        }
      },
      "cell_type": "code",
      "source": [
        "clarity_rank = {\"IF\":0,\"VVS1\":1, \"VVS2\":2,\"VS1\":3, \"VS2\":4,\"SI1\":5, \"SI2\":6, \"I1\":7}\n",
        "train.clarity = train.clarity.map(clarity_rank)  \n",
        "test.clarity = test.clarity.map(clarity_rank)\n",
        "\n",
        "color_rank = {\"J\":7, \"I\":6, \"H\":5, \"G\":4, \"F\":3, \"E\":2, \"D\":1 }\n",
        "train.color = train.color.map(color_rank)\n",
        "test.color = test.color.map(color_rank)\n",
        "\n",
        "train.head()"
      ],
      "execution_count": null,
      "outputs": [
        {
          "output_type": "execute_result",
          "data": {
            "text/html": [
              "<div>\n",
              "<style scoped>\n",
              "    .dataframe tbody tr th:only-of-type {\n",
              "        vertical-align: middle;\n",
              "    }\n",
              "\n",
              "    .dataframe tbody tr th {\n",
              "        vertical-align: top;\n",
              "    }\n",
              "\n",
              "    .dataframe thead th {\n",
              "        text-align: right;\n",
              "    }\n",
              "</style>\n",
              "<table border=\"1\" class=\"dataframe\">\n",
              "  <thead>\n",
              "    <tr style=\"text-align: right;\">\n",
              "      <th></th>\n",
              "      <th>carat</th>\n",
              "      <th>cut</th>\n",
              "      <th>color</th>\n",
              "      <th>clarity</th>\n",
              "      <th>depth</th>\n",
              "      <th>table</th>\n",
              "      <th>price</th>\n",
              "      <th>x</th>\n",
              "      <th>y</th>\n",
              "      <th>z</th>\n",
              "    </tr>\n",
              "  </thead>\n",
              "  <tbody>\n",
              "    <tr>\n",
              "      <th>43601</th>\n",
              "      <td>0.31</td>\n",
              "      <td>3</td>\n",
              "      <td>2</td>\n",
              "      <td>5</td>\n",
              "      <td>61.2</td>\n",
              "      <td>58.0</td>\n",
              "      <td>507</td>\n",
              "      <td>4.34</td>\n",
              "      <td>4.38</td>\n",
              "      <td>2.67</td>\n",
              "    </tr>\n",
              "    <tr>\n",
              "      <th>52706</th>\n",
              "      <td>0.74</td>\n",
              "      <td>1</td>\n",
              "      <td>5</td>\n",
              "      <td>4</td>\n",
              "      <td>66.1</td>\n",
              "      <td>61.0</td>\n",
              "      <td>2553</td>\n",
              "      <td>5.60</td>\n",
              "      <td>5.57</td>\n",
              "      <td>3.69</td>\n",
              "    </tr>\n",
              "    <tr>\n",
              "      <th>1986</th>\n",
              "      <td>0.81</td>\n",
              "      <td>3</td>\n",
              "      <td>4</td>\n",
              "      <td>5</td>\n",
              "      <td>62.3</td>\n",
              "      <td>59.0</td>\n",
              "      <td>3095</td>\n",
              "      <td>5.93</td>\n",
              "      <td>5.98</td>\n",
              "      <td>3.71</td>\n",
              "    </tr>\n",
              "    <tr>\n",
              "      <th>48617</th>\n",
              "      <td>0.70</td>\n",
              "      <td>1</td>\n",
              "      <td>4</td>\n",
              "      <td>6</td>\n",
              "      <td>61.5</td>\n",
              "      <td>66.0</td>\n",
              "      <td>1999</td>\n",
              "      <td>5.55</td>\n",
              "      <td>5.60</td>\n",
              "      <td>3.43</td>\n",
              "    </tr>\n",
              "    <tr>\n",
              "      <th>10947</th>\n",
              "      <td>0.87</td>\n",
              "      <td>5</td>\n",
              "      <td>4</td>\n",
              "      <td>4</td>\n",
              "      <td>61.8</td>\n",
              "      <td>56.0</td>\n",
              "      <td>4899</td>\n",
              "      <td>6.11</td>\n",
              "      <td>6.13</td>\n",
              "      <td>3.78</td>\n",
              "    </tr>\n",
              "  </tbody>\n",
              "</table>\n",
              "</div>"
            ],
            "text/plain": [
              "       carat  cut  color  clarity  depth  table  price     x     y     z\n",
              "43601   0.31    3      2        5   61.2   58.0    507  4.34  4.38  2.67\n",
              "52706   0.74    1      5        4   66.1   61.0   2553  5.60  5.57  3.69\n",
              "1986    0.81    3      4        5   62.3   59.0   3095  5.93  5.98  3.71\n",
              "48617   0.70    1      4        6   61.5   66.0   1999  5.55  5.60  3.43\n",
              "10947   0.87    5      4        4   61.8   56.0   4899  6.11  6.13  3.78"
            ]
          },
          "metadata": {
            "tags": []
          },
          "execution_count": 16
        }
      ]
    },
    {
      "metadata": {
        "id": "hjmz2z-76o15",
        "outputId": "c2ab4ede-f3e0-4b75-b953-a03294ca8d3c",
        "colab": {
          "base_uri": "https://localhost:8080/",
          "height": 34
        }
      },
      "cell_type": "code",
      "source": [
        "# Print out sum of all null values of the clarity column\n",
        "train['clarity'].isnull().sum()"
      ],
      "execution_count": null,
      "outputs": [
        {
          "output_type": "execute_result",
          "data": {
            "text/plain": [
              "0"
            ]
          },
          "metadata": {
            "tags": []
          },
          "execution_count": 17
        }
      ]
    },
    {
      "metadata": {
        "id": "sfavFx11_bj3",
        "outputId": "184dbb72-0428-46b3-d372-2cb9ea52e572",
        "colab": {
          "base_uri": "https://localhost:8080/",
          "height": 34
        }
      },
      "cell_type": "code",
      "source": [
        "# Print out sum of all null values of the color column\n",
        "train['color'].isnull().sum()"
      ],
      "execution_count": null,
      "outputs": [
        {
          "output_type": "execute_result",
          "data": {
            "text/plain": [
              "0"
            ]
          },
          "metadata": {
            "tags": []
          },
          "execution_count": 18
        }
      ]
    },
    {
      "metadata": {
        "id": "N1tId7za6yt0",
        "colab": {
          "base_uri": "https://localhost:8080/",
          "height": 52
        },
        "outputId": "1f24d6b7-c04c-4bdb-caad-ade45164c8ec"
      },
      "cell_type": "code",
      "source": [
        "features = ['color','clarity']\n",
        "target = ['price']\n",
        "model = LinearRegression()\n",
        "model.fit(train[features],train[target])"
      ],
      "execution_count": null,
      "outputs": [
        {
          "output_type": "execute_result",
          "data": {
            "text/plain": [
              "LinearRegression(copy_X=True, fit_intercept=True, n_jobs=None,\n",
              "         normalize=False)"
            ]
          },
          "metadata": {
            "tags": []
          },
          "execution_count": 19
        }
      ]
    },
    {
      "metadata": {
        "id": "tS1KEAuM_8aX",
        "outputId": "d13ced2c-e532-40cd-aedf-da4273045e5b",
        "colab": {
          "base_uri": "https://localhost:8080/",
          "height": 52
        }
      },
      "cell_type": "code",
      "source": [
        "def mean_abs_error():\n",
        "    # Calculate mean absolute error on the training data\n",
        "    y_true = train[target]\n",
        "    y_pred = model.predict(train[features])\n",
        "    train_error = mean_absolute_error(y_true, y_pred)\n",
        "\n",
        "    # Calculate mean absolute error on the test data\n",
        "    y_true = test[target]\n",
        "    y_pred = model.predict(test[features])\n",
        "    test_error = mean_absolute_error(y_true, y_pred)\n",
        "\n",
        "    # Display the errors\n",
        "    print('Train Error: $', round(train_error))\n",
        "    print('Test Error: $', round(test_error))\n",
        "    \n",
        "mean_abs_error()"
      ],
      "execution_count": null,
      "outputs": [
        {
          "output_type": "stream",
          "text": [
            "Train Error: $ 1031.0\n",
            "Test Error: $ 1036.0\n"
          ],
          "name": "stdout"
        }
      ]
    },
    {
      "metadata": {
        "id": "jKNxO0xJAf-8",
        "colab": {
          "base_uri": "https://localhost:8080/",
          "height": 34
        },
        "outputId": "6c771ae0-df9b-4497-a0e9-a137d7dfb74d"
      },
      "cell_type": "code",
      "source": [
        "model.coef_,model.intercept_"
      ],
      "execution_count": null,
      "outputs": [
        {
          "output_type": "execute_result",
          "data": {
            "text/plain": [
              "(array([[ 77.75742165, 259.22094468]]), array([648.46824772]))"
            ]
          },
          "metadata": {
            "tags": []
          },
          "execution_count": 21
        }
      ]
    },
    {
      "metadata": {
        "id": "ZUiQCTdQmyXi",
        "colab": {
          "base_uri": "https://localhost:8080/",
          "height": 34
        },
        "outputId": "1c994247-4ab8-4ded-fbc2-c3e9bd919728"
      },
      "cell_type": "code",
      "source": [
        "model.predict([[0.5, 3]])"
      ],
      "execution_count": null,
      "outputs": [
        {
          "output_type": "execute_result",
          "data": {
            "text/plain": [
              "array([[1465.0097926]])"
            ]
          },
          "metadata": {
            "tags": []
          },
          "execution_count": 22
        }
      ]
    },
    {
      "metadata": {
        "id": "_wAoZ1plQYVc"
      },
      "cell_type": "code",
      "source": [
        ""
      ],
      "execution_count": null,
      "outputs": []
    },
    {
      "metadata": {
        "id": "0FBwxHiJDjmY"
      },
      "cell_type": "markdown",
      "source": [
        "I am going to practice to predict prices considering four features. Please grade this"
      ]
    },
    {
      "metadata": {
        "id": "wQTyZznTCS3C",
        "colab": {
          "base_uri": "https://localhost:8080/",
          "height": 52
        },
        "outputId": "aa62c830-89d8-45f4-e6a2-e27454982c13"
      },
      "cell_type": "code",
      "source": [
        "features = ['carat','cut','color','clarity']\n",
        "target = ['price']\n",
        "model = LinearRegression()\n",
        "model.fit(train[features],train[target])"
      ],
      "execution_count": null,
      "outputs": [
        {
          "output_type": "execute_result",
          "data": {
            "text/plain": [
              "LinearRegression(copy_X=True, fit_intercept=True, n_jobs=None,\n",
              "         normalize=False)"
            ]
          },
          "metadata": {
            "tags": []
          },
          "execution_count": 23
        }
      ]
    },
    {
      "metadata": {
        "id": "U3Rh3Zo9Cc6e",
        "colab": {
          "base_uri": "https://localhost:8080/",
          "height": 52
        },
        "outputId": "e392eefa-bde4-411f-845b-0307fd4003e5"
      },
      "cell_type": "code",
      "source": [
        "def mean_abs_error():\n",
        "    # Calculate mean absolute error on the training data\n",
        "    y_true = train[target]\n",
        "    y_pred = model.predict(train[features])\n",
        "    train_error = mean_absolute_error(y_true, y_pred)\n",
        "\n",
        "    # Calculate mean absolute error on the test data\n",
        "    y_true = test[target]\n",
        "    y_pred = model.predict(test[features])\n",
        "    test_error = mean_absolute_error(y_true, y_pred)\n",
        "\n",
        "    # Display the errors\n",
        "    print('Train Error: $', round(train_error))\n",
        "    print('Test Error: $', round(test_error))\n",
        "    \n",
        "mean_abs_error()"
      ],
      "execution_count": null,
      "outputs": [
        {
          "output_type": "stream",
          "text": [
            "Train Error: $ 245.0\n",
            "Test Error: $ 246.0\n"
          ],
          "name": "stdout"
        }
      ]
    },
    {
      "metadata": {
        "id": "adOb0ByAENCf"
      },
      "cell_type": "markdown",
      "source": [
        "As seen above, as we consider more features, we get expected error. Linear Regression model fits the data"
      ]
    },
    {
      "metadata": {
        "id": "r30mpT6gChXA",
        "colab": {
          "base_uri": "https://localhost:8080/",
          "height": 52
        },
        "outputId": "88efdf35-f0ee-49b2-e1d0-1188805b434e"
      },
      "cell_type": "code",
      "source": [
        "model.coef_,model.intercept_"
      ],
      "execution_count": null,
      "outputs": [
        {
          "output_type": "execute_result",
          "data": {
            "text/plain": [
              "(array([[5529.14717977,   51.28925478, -112.47381195, -161.90279604]]),\n",
              " array([-447.29671118]))"
            ]
          },
          "metadata": {
            "tags": []
          },
          "execution_count": 25
        }
      ]
    },
    {
      "metadata": {
        "id": "YzNYXWoFEffU"
      },
      "cell_type": "markdown",
      "source": [
        "So, the equation for the line of best fit is:\n",
        "\n",
        "$$ price = 5529*carat + 51*cut - 112.5*color - 162*clarity $$"
      ]
    },
    {
      "metadata": {
        "id": "b6_2UEMqD1hM"
      },
      "cell_type": "markdown",
      "source": [
        "Let's predict the prices of 1/2 carat diamond, very good cut, G color and SI1 clarity"
      ]
    },
    {
      "metadata": {
        "id": "POOUPw2FClSM",
        "colab": {
          "base_uri": "https://localhost:8080/",
          "height": 34
        },
        "outputId": "d78b4691-5af5-4a40-b231-5da0bf2f4a80"
      },
      "cell_type": "code",
      "source": [
        "model.predict([[0.5, 3, 4, 5]])"
      ],
      "execution_count": null,
      "outputs": [
        {
          "output_type": "execute_result",
          "data": {
            "text/plain": [
              "array([[1211.73541508]])"
            ]
          },
          "metadata": {
            "tags": []
          },
          "execution_count": 27
        }
      ]
    },
    {
      "metadata": {
        "id": "LcnMVXxyC9tj"
      },
      "cell_type": "code",
      "source": [
        ""
      ],
      "execution_count": null,
      "outputs": []
    }
  ]
}